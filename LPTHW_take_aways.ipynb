{
 "cells": [
  {
   "cell_type": "markdown",
   "metadata": {},
   "source": [
    "Input() vs raw_input()\n",
    "<ul>\n",
    "    <li> input() (py2.7) takes only a valid python expression ,else throws an <b>EOF line parsing</b> syntax error</li>\n",
    "    <li>Where as raw_input() takes any shit we give to it and neatly converts them to the <i> <b>str </b></i></li>\n",
    "    <li>In Python3, <b>raw_input()</b> name was changed to <b> input()</b> and the <b> input()(2.7)</b> was deprecated </li>\n",
    "    <li> That does mean in python 3 you can give any shit you want</li>\n",
    "</ul>"
   ]
  },
  {
   "cell_type": "code",
   "execution_count": 9,
   "metadata": {},
   "outputs": [
    {
     "name": "stdout",
     "output_type": "stream",
     "text": [
      "dsapojdp12-0\n",
      "the op is dsapojdp12-0\n"
     ]
    }
   ],
   "source": [
    "first = input()\n",
    "print(\"the op is\",first)"
   ]
  },
  {
   "cell_type": "markdown",
   "metadata": {},
   "source": [
    "__repr__() vs __str()__ :\n",
    "<a href=\"https://docs.python.org/3/library/functions.html#repr\"><i>doc for repr</i></a> \n",
    "1. repr is more of clear and unambigous way of representing object. \n",
    "2. repr returns a string which yields an object similar to when passed to <a href=\"https://docs.python.org/3/library/functions.html#eval\"> eval() </a>\n",
    "3. str is just printing any object in simple printable statement."
   ]
  },
  {
   "cell_type": "code",
   "execution_count": 7,
   "metadata": {},
   "outputs": [
    {
     "name": "stdout",
     "output_type": "stream",
     "text": [
      "datetime.datetime(2018, 9, 12, 4, 0, 17, 315414)\n",
      "2018-09-12 04:00:17.315414\n"
     ]
    }
   ],
   "source": [
    "import datetime\n",
    "\n",
    "a = datetime.datetime.utcnow()\n",
    "# The following returned an object which can be used for other devlopers like that.\n",
    "print(repr(a)) \n",
    "# This is just a neat repr of the object without knowing of its true type.It kind of end users.\n",
    "print(str(a))"
   ]
  },
  {
   "cell_type": "code",
   "execution_count": 8,
   "metadata": {},
   "outputs": [
    {
     "name": "stdout",
     "output_type": "stream",
     "text": [
      "2018-09-12 04:00:17.315414\n",
      "'2018-09-12 04:00:17.315414'\n"
     ]
    }
   ],
   "source": [
    "# %time\n",
    "# The following is a simple example where we can see that the it's hard to find the representation as \n",
    "# both are evaluating to the strings\n",
    "print(str(a))\n",
    "b = str(a)\n",
    "print(repr(b))"
   ]
  },
  {
   "cell_type": "code",
   "execution_count": 12,
   "metadata": {},
   "outputs": [
    {
     "name": "stdout",
     "output_type": "stream",
     "text": [
      "['C:\\\\Users\\\\ksair\\\\AppData\\\\Local\\\\Continuum\\\\anaconda3\\\\lib\\\\site-packages\\\\ipykernel_launcher.py', '-f', 'C:\\\\Users\\\\ksair\\\\AppData\\\\Roaming\\\\jupyter\\\\runtime\\\\kernel-a2499064-ea42-4586-bf56-3febd9b06a55.json']\n"
     ]
    }
   ],
   "source": [
    "from sys import argv\n",
    "\n",
    "script = argv\n",
    "\n",
    "print(script)"
   ]
  },
  {
   "cell_type": "code",
   "execution_count": null,
   "metadata": {},
   "outputs": [],
   "source": []
  }
 ],
 "metadata": {
  "kernelspec": {
   "display_name": "Python 3",
   "language": "python",
   "name": "python3"
  },
  "language_info": {
   "codemirror_mode": {
    "name": "ipython",
    "version": 3
   },
   "file_extension": ".py",
   "mimetype": "text/x-python",
   "name": "python",
   "nbconvert_exporter": "python",
   "pygments_lexer": "ipython3",
   "version": "3.6.5"
  }
 },
 "nbformat": 4,
 "nbformat_minor": 2
}
