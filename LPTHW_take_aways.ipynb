{
 "cells": [
  {
   "cell_type": "markdown",
   "metadata": {},
   "source": [
    "Input() vs raw_input()\n",
    "<ul>\n",
    "    <li> input() (py2.7) takes only a valid python expression ,else throws an <b>EOF line parsing</b> syntax error</li>\n",
    "    <li>Where as raw_input() takes any shit we give to it and neatly converts them to the <i> <b>str </b></i></li>\n",
    "    <li>In Python3, <b>raw_input()</b> name was changed to <b> input()</b> and the <b> input()(2.7)</b> was deprecated </li>\n",
    "    <li> That does mean in python 3 you can give any shit you want</li>\n",
    "    <li>We still can use the <b>input()</b> of py2.7 in python3 using <b><a href=\"https://www.programiz.com/python-programming/methods/built-in/eval\">eval()</a></b></li>\n",
    "</ul>"
   ]
  },
  {
   "cell_type": "code",
   "execution_count": 9,
   "metadata": {},
   "outputs": [
    {
     "name": "stdout",
     "output_type": "stream",
     "text": [
      "dsapojdp12-0\n",
      "the op is dsapojdp12-0\n"
     ]
    }
   ],
   "source": [
    "first = input()\n",
    "print(\"the op is\",first)"
   ]
  },
  {
   "cell_type": "markdown",
   "metadata": {},
   "source": [
    "__repr__() vs __str()__ :\n",
    "<a href=\"https://docs.python.org/3/library/functions.html#repr\"><i>doc for repr</i></a> \n",
    "1. repr is more of clear and unambigous way of representing object. \n",
    "2. repr returns a string which yields an object similar to when passed to <a href=\"https://docs.python.org/3/library/functions.html#eval\"> eval() </a>\n",
    "3. str is just printing any object in simple printable statement."
   ]
  },
  {
   "cell_type": "code",
   "execution_count": 7,
   "metadata": {},
   "outputs": [
    {
     "name": "stdout",
     "output_type": "stream",
     "text": [
      "datetime.datetime(2018, 9, 12, 4, 0, 17, 315414)\n",
      "2018-09-12 04:00:17.315414\n"
     ]
    }
   ],
   "source": [
    "import datetime\n",
    "\n",
    "a = datetime.datetime.utcnow()\n",
    "# The following returned an object which can be used for other devlopers like that.\n",
    "print(repr(a)) \n",
    "# This is just a neat repr of the object without knowing of its true type.It kind of end users.\n",
    "print(str(a))"
   ]
  },
  {
   "cell_type": "code",
   "execution_count": 8,
   "metadata": {},
   "outputs": [
    {
     "name": "stdout",
     "output_type": "stream",
     "text": [
      "2018-09-12 04:00:17.315414\n",
      "'2018-09-12 04:00:17.315414'\n"
     ]
    }
   ],
   "source": [
    "# %time\n",
    "# The following is a simple example where we can see that the it's hard to find the representation as \n",
    "# both are evaluating to the strings\n",
    "print(str(a))\n",
    "b = str(a)\n",
    "print(repr(b))"
   ]
  },
  {
   "cell_type": "code",
   "execution_count": 12,
   "metadata": {},
   "outputs": [
    {
     "name": "stdout",
     "output_type": "stream",
     "text": [
      "['C:\\\\Users\\\\ksair\\\\AppData\\\\Local\\\\Continuum\\\\anaconda3\\\\lib\\\\site-packages\\\\ipykernel_launcher.py', '-f', 'C:\\\\Users\\\\ksair\\\\AppData\\\\Roaming\\\\jupyter\\\\runtime\\\\kernel-a2499064-ea42-4586-bf56-3febd9b06a55.json']\n"
     ]
    }
   ],
   "source": [
    "from sys import argv\n",
    "\n",
    "script = argv\n",
    "\n",
    "print(script)"
   ]
  },
  {
   "cell_type": "code",
   "execution_count": 14,
   "metadata": {},
   "outputs": [
    {
     "name": "stdout",
     "output_type": "stream",
     "text": [
      "['this will be the BEST\\n', 'and another BESt\\n', 'lastBEST\\n', 'STARK']\n"
     ]
    }
   ],
   "source": [
    "import os\n",
    "# Uni-code Escaping with the charecter '\\'\n",
    "\n",
    "with open('C:\\\\Users\\\\ksair\\\\Desktop\\\\pi\\\\sam.txt','r') as f1:\n",
    "    print(f1.readlines()) # LIST tyoe\n",
    "f1.close();\n",
    "\n",
    "in_lines = ['Starks\\n','Lannisters\\n','Boltons\\n','Targereyns']\n",
    "with open('C:\\\\Users\\\\ksair\\\\Desktop\\\\pi\\\\pro.txt','w') as f2:\n",
    "    f2.truncate()\n",
    "    f2.writelines(in_lines)\n",
    "# close the file obj\n",
    "f2.close()"
   ]
  },
  {
   "cell_type": "markdown",
   "metadata": {},
   "source": [
    "Asterix args (*args):\n",
    "<ol>\n",
    "<li> Used for Functions,basically when you dont know how many args you will pass to the function </li>\n",
    "    <li> Similar to <b>argv</b> of sys module.Unpack it and use</li>\n",
    "</ol>   "
   ]
  },
  {
   "cell_type": "code",
   "execution_count": 6,
   "metadata": {},
   "outputs": [
    {
     "name": "stdout",
     "output_type": "stream",
     "text": [
      "3\n"
     ]
    }
   ],
   "source": [
    "def unlimit(*args):\n",
    "    ag1,ag2,ag3 = args # 3 args unpacked: no errors\n",
    "    print(ag1+ag2+ag3)\n",
    "unlimit(1,1,1) # 3 args given"
   ]
  },
  {
   "cell_type": "code",
   "execution_count": 7,
   "metadata": {},
   "outputs": [
    {
     "ename": "ValueError",
     "evalue": "too many values to unpack (expected 3)",
     "output_type": "error",
     "traceback": [
      "\u001b[1;31m---------------------------------------------------------------------------\u001b[0m",
      "\u001b[1;31mValueError\u001b[0m                                Traceback (most recent call last)",
      "\u001b[1;32m<ipython-input-7-d9d3beff4a55>\u001b[0m in \u001b[0;36m<module>\u001b[1;34m()\u001b[0m\n\u001b[0;32m      2\u001b[0m     \u001b[0mag1\u001b[0m\u001b[1;33m,\u001b[0m\u001b[0mag2\u001b[0m\u001b[1;33m,\u001b[0m\u001b[0mag3\u001b[0m \u001b[1;33m=\u001b[0m \u001b[0margs\u001b[0m \u001b[1;31m# 3 args unpacked: no errors\u001b[0m\u001b[1;33m\u001b[0m\u001b[0m\n\u001b[0;32m      3\u001b[0m     \u001b[0mprint\u001b[0m\u001b[1;33m(\u001b[0m\u001b[0mag1\u001b[0m\u001b[1;33m+\u001b[0m\u001b[0mag2\u001b[0m\u001b[1;33m+\u001b[0m\u001b[0mag3\u001b[0m\u001b[1;33m)\u001b[0m\u001b[1;33m\u001b[0m\u001b[0m\n\u001b[1;32m----> 4\u001b[1;33m \u001b[0munlimit\u001b[0m\u001b[1;33m(\u001b[0m\u001b[1;36m1\u001b[0m\u001b[1;33m,\u001b[0m\u001b[1;36m1\u001b[0m\u001b[1;33m,\u001b[0m\u001b[1;36m1\u001b[0m\u001b[1;33m,\u001b[0m\u001b[1;36m20\u001b[0m\u001b[1;33m)\u001b[0m \u001b[1;31m# 3 args given\u001b[0m\u001b[1;33m\u001b[0m\u001b[0m\n\u001b[0m",
      "\u001b[1;32m<ipython-input-7-d9d3beff4a55>\u001b[0m in \u001b[0;36munlimit\u001b[1;34m(*args)\u001b[0m\n\u001b[0;32m      1\u001b[0m \u001b[1;32mdef\u001b[0m \u001b[0munlimit\u001b[0m\u001b[1;33m(\u001b[0m\u001b[1;33m*\u001b[0m\u001b[0margs\u001b[0m\u001b[1;33m)\u001b[0m\u001b[1;33m:\u001b[0m\u001b[1;33m\u001b[0m\u001b[0m\n\u001b[1;32m----> 2\u001b[1;33m     \u001b[0mag1\u001b[0m\u001b[1;33m,\u001b[0m\u001b[0mag2\u001b[0m\u001b[1;33m,\u001b[0m\u001b[0mag3\u001b[0m \u001b[1;33m=\u001b[0m \u001b[0margs\u001b[0m \u001b[1;31m# 3 args unpacked: no errors\u001b[0m\u001b[1;33m\u001b[0m\u001b[0m\n\u001b[0m\u001b[0;32m      3\u001b[0m     \u001b[0mprint\u001b[0m\u001b[1;33m(\u001b[0m\u001b[0mag1\u001b[0m\u001b[1;33m+\u001b[0m\u001b[0mag2\u001b[0m\u001b[1;33m+\u001b[0m\u001b[0mag3\u001b[0m\u001b[1;33m)\u001b[0m\u001b[1;33m\u001b[0m\u001b[0m\n\u001b[0;32m      4\u001b[0m \u001b[0munlimit\u001b[0m\u001b[1;33m(\u001b[0m\u001b[1;36m1\u001b[0m\u001b[1;33m,\u001b[0m\u001b[1;36m1\u001b[0m\u001b[1;33m,\u001b[0m\u001b[1;36m1\u001b[0m\u001b[1;33m,\u001b[0m\u001b[1;36m20\u001b[0m\u001b[1;33m)\u001b[0m \u001b[1;31m# 3 args given\u001b[0m\u001b[1;33m\u001b[0m\u001b[0m\n",
      "\u001b[1;31mValueError\u001b[0m: too many values to unpack (expected 3)"
     ]
    }
   ],
   "source": [
    "def unlimit(*args):\n",
    "    ag1,ag2,ag3 = args # But 3 args unpacked:  VALUEERROR\n",
    "    print(ag1+ag2+ag3)\n",
    "unlimit(1,1,1,20) # 4 args given"
   ]
  },
  {
   "cell_type": "markdown",
   "metadata": {},
   "source": [
    "<h3><b>with , as</b> </h3>\n",
    "<ol>\n",
    "    <li>as is used for aliasing</li>\n",
    "    <li>with is used to execute the two functions as pair</li>\n",
    "    <li>with automatically closes the files no matter</li>\n",
    "    <ul>\n",
    "    <li>Nested Blocks</li>\n",
    "        <li>It closes the file even before the exception is bought by handler</li>\n",
    "        <li>Even the block has the <i>return,continue,break</i> statments it closes the FILE..Pretty fuckin good</li>\n",
    "    </ul>"
   ]
  },
  {
   "cell_type": "markdown",
   "metadata": {},
   "source": [
    "<h3> Positional args(*) and kwargs(**) </h3>\n",
    "<ol>\n",
    "    <li>*args gives us the space to collect morethan desired args.If we are not certain about the no:of args</li>\n",
    "    <li>*args returns the tuples</li>\n",
    "    <li>**kwargs returns a dict with key value pair</li>\n",
    "</ol>"
   ]
  },
  {
   "cell_type": "code",
   "execution_count": 12,
   "metadata": {},
   "outputs": [
    {
     "name": "stdout",
     "output_type": "stream",
     "text": [
      "This is args and item is (1, 2, 3, 4, 5, 'rahul')\n",
      "This is args and item is (23, 445)\n",
      "2132233 21312\n",
      "this is kwargs and item is {'k1': '2132233', 'k2': '21312'}\n"
     ]
    }
   ],
   "source": [
    "def foo(*args,**kwargs):\n",
    "    if args:\n",
    "        print(\"This is args and item is\",args)\n",
    "    if kwargs:\n",
    "        print(kwargs['k1'],kwargs['k2'])\n",
    "        print (\"this is kwargs and item is\",kwargs)\n",
    "    \n",
    "    # print(type(args))# tuple\n",
    "    # print(type(kwargs))# dict\n",
    "    \n",
    "\n",
    "foo()\n",
    "foo(1,2,3,4,5,'rahul')\n",
    "foo(23,445,k1='2132233',k2='21312')"
   ]
  },
  {
   "cell_type": "markdown",
   "metadata": {},
   "source": [
    "<h3>global and nonlocal</h3>"
   ]
  },
  {
   "cell_type": "code",
   "execution_count": 2,
   "metadata": {},
   "outputs": [
    {
     "name": "stdout",
     "output_type": "stream",
     "text": [
      "before 12\n",
      "sai\n",
      "sai\n"
     ]
    }
   ],
   "source": [
    "x_gl =12\n",
    "print(\"before\",x_gl)\n",
    "\n",
    "def foo_global():\n",
    "    global x_gl # changes variable to global scope\n",
    "    x_gl = 'sai'\n",
    "    return x_gl\n",
    "\n",
    "print(foo_global())\n",
    "print(x_gl)"
   ]
  },
  {
   "cell_type": "markdown",
   "metadata": {},
   "source": [
    "<head>\n",
    "<style>\n",
    "table, th, td {\n",
    "    border: 1px solid black;\n",
    "    border-collapse: collapse;\n",
    "    text-align: center;\n",
    "}\n",
    "th,td {\n",
    "    text-align: center;\n",
    "}\n",
    "</style>\n",
    "</head>\n",
    "<h3>exec() vs eval()</h3>\n",
    "<ul>\n",
    "    <li>Both takes python statements (or) expressions and executes them</li>\n",
    "    <li>Both are used for Dynamic Execution</li>\n",
    "    <li>But there are few differences when compared</li>\n",
    "</ul>\n",
    "<table style=\"width:100%\">\n",
    "    <caption>Differences of exec() and eval()</caption>\n",
    "  <tr>\n",
    "    <th>exec()</th>\n",
    "    <th>eval()</th> \n",
    "  </tr>\n",
    "  <tr>\n",
    "    <td>Takes single line to blocks of python code as argument</td>\n",
    "    <td>Takes Only one single expression as argument</td>\n",
    "  </tr>\n",
    "  <tr>\n",
    "      <td>Igonres the <i>return</i> value</td>\n",
    "      <td>returns the value</td>\n",
    "  </tr>\n",
    "  <tr>\n",
    "      <td>It takes keywords like <b>def,for,with....</b></td>\n",
    "    <td>It cannot take the keywords</td>\n",
    "  </tr>\n",
    "</table>"
   ]
  },
  {
   "cell_type": "code",
   "execution_count": 3,
   "metadata": {},
   "outputs": [
    {
     "name": "stdout",
     "output_type": "stream",
     "text": [
      "python\n",
      "python\n",
      "python\n"
     ]
    },
    {
     "data": {
      "text/plain": [
       "'sai'"
      ]
     },
     "execution_count": 3,
     "metadata": {},
     "output_type": "execute_result"
    }
   ],
   "source": [
    "pg = \"for i in range(3):   print('python')\"\n",
    "exec(pg)\n",
    "#eval(pg) # error\n",
    "exec('foo_global()') # Ignores the return value\n",
    "eval('foo_global()') # returns the value\n"
   ]
  },
  {
   "cell_type": "markdown",
   "metadata": {},
   "source": [
    "<h2>lambda functions</h2>\n",
    "<h5>Syntax--> <strong>lambda arguments : expression</strong></h5>\n",
    "<ul>\n",
    "    <li>While normal functions are defined using the <b>def</b> keyword,anonymous functions are defined using the <b> <a href=\"https://medium.com/@happymishra66/lambda-map-and-filter-in-python-4935f248593\">lambda</a></b> keyword.</li>\n",
    "    <li>Any number of arguments but only single expression </li>\n",
    "    <li><a href=\"https://www.programiz.com/python-programming/anonymous-function\">Lambda functions </a> always return the function object and can be assigned to normal variables</li>\n",
    "    <li>Lambda Functions are generally used with <b>filter,map,reduce</b> functions which takes function object as the first argument</li>\n",
    "</ul>\n"
   ]
  },
  {
   "cell_type": "code",
   "execution_count": 98,
   "metadata": {},
   "outputs": [
    {
     "data": {
      "text/plain": [
       "function"
      ]
     },
     "execution_count": 98,
     "metadata": {},
     "output_type": "execute_result"
    }
   ],
   "source": [
    "def normal_python(p,q):\n",
    "    return p%q\n",
    "\n",
    "normal_python(10,8) # 2\n",
    "\n",
    "# anonymous functions\n",
    "fun_obj_lambda = lambda p: p%2 == 0; # It will give a fun object and added to a variable\n",
    "fun_obj_lambda_1 = lambda x,y: x+y; \n",
    "\n",
    "type(fun_obj_lambda) # function"
   ]
  },
  {
   "cell_type": "markdown",
   "metadata": {},
   "source": [
    "<h2>filter()</h2>\n",
    "<h5>Syntax--> <strong>filter(function_object, iterable)</strong></h5>\n",
    "\n",
    "<ol>\n",
    "    <li><a href=\"https://www.programiz.com/python-programming/methods/built-in/filter\">filter()</a> takes a function (or) function object as the first argument and iterable as next argument</li>\n",
    "     <li>The lambda function is called with all the items in the list and a new list is returned which contains items for which the function evaluates to True.</li>\n",
    "<li>filter() returns filter object which gets lazily evaluated</li>\n",
    "    <li>Neither we can access the elements of the filter object with <i>index</i> nor we can use <i>len()</i> to find the length of the filter object.The filter object needs to converted to a list</li>\n",
    "   \n",
    "</ol>"
   ]
  },
  {
   "cell_type": "code",
   "execution_count": 83,
   "metadata": {},
   "outputs": [
    {
     "name": "stdout",
     "output_type": "stream",
     "text": [
      "[2, 4, 6]\n"
     ]
    }
   ],
   "source": [
    "itr1 = [1,2,3,4,5,6,7]\n",
    "\n",
    "# returns a filter object and assigned to a variable\n",
    "itr1_filtered = filter(fun_obj_lambda,itr1) \n",
    "\n",
    "\n",
    "itr1_list = list(itr1_filtered)# filter object converted to list \n",
    "\n",
    "# we got only the elements which evaluated to true\n",
    "print(itr1_list) "
   ]
  },
  {
   "cell_type": "markdown",
   "metadata": {},
   "source": [
    "<h2> map()</h2>\n",
    "<h5>Syntax--> <strong>map(function_object, iterable1, iterable2,...)</strong></h5>\n",
    "\n",
    "<ol>\n",
    "    <li><a href=\"https://medium.com/@happymishra66/lambda-map-and-filter-in-python-4935f248593\">map()</a> executes the function_object for each element in the iterable seq and returns a list of the elements modified by the function object.</li>\n",
    "<li>Neither we can access the elements of the map object with index nor we can use len() to find the length of the map object.The map object needs to converted to a list</li>\n",
    "</ol>"
   ]
  },
  {
   "cell_type": "code",
   "execution_count": 87,
   "metadata": {},
   "outputs": [
    {
     "name": "stdout",
     "output_type": "stream",
     "text": [
      "<map object at 0x00000253C0887DA0>\n"
     ]
    },
    {
     "data": {
      "text/plain": [
       "[2, 4, 6, 8, 10, 12, 14]"
      ]
     },
     "execution_count": 87,
     "metadata": {},
     "output_type": "execute_result"
    }
   ],
   "source": [
    "itr2 = [{'name': 'python', 'points': 10}, {'name': 'java', 'points': 8}]\n",
    "itr3 = [1,2,3,4,5,6,7]\n",
    "\n",
    "\n",
    "\n",
    "# returns the map object # p2 \n",
    "itr2_mapped = map(lambda x: x['name']*2,itr2)\n",
    "itr2_mapped1 = map(lambda p,q: p+q,itr1,itr3) # p arg takes itr1 and q arg takes itr3\n",
    "\n",
    "print(itr2_mapped1)\n",
    "\n",
    "#map object converted to a list\n",
    "mapped_list = list(itr2_mapped1)\n",
    "mapped_list\n"
   ]
  },
  {
   "cell_type": "markdown",
   "metadata": {},
   "source": [
    "<h2> filter () vs map() </h2>\n",
    " \n",
    " <a href=\"https://www.programiz.com/python-programming/methods/built-in/map\">map()</a> can take multiple iterables where as filter takes one iterable"
   ]
  },
  {
   "cell_type": "code",
   "execution_count": 97,
   "metadata": {},
   "outputs": [
    {
     "name": "stdout",
     "output_type": "stream",
     "text": [
      "[2, 4, 6]\n",
      "[False, True, False, True, False, True, False]\n",
      "[1, 2, 3, 4, 5, 6, 7]\n",
      "[101, 102, 103, 104, 105, 106, 107]\n"
     ]
    }
   ],
   "source": [
    "# filter returns the items which evaluates to TRUE\n",
    "print(list(filter(lambda x: x%2 == 0,itr1))) \n",
    "\n",
    "#map() returns the values\n",
    "print(list(map(lambda x: x%2 == 0 ,itr1)))\n",
    "\n",
    "# here filter takes one element as input and can perform the x+100 expression with each element.\n",
    "# So, every item evaluates to true\n",
    "print(list(filter(lambda x : x+100,itr1)))\n",
    "\n",
    "# here map returned the output of the expression x+100\n",
    "print(list(map(lambda x : x+100,itr1)))\n",
    "\n"
   ]
  },
  {
   "cell_type": "markdown",
   "metadata": {},
   "source": [
    "<h2> reduce() </h2>\n",
    "\n",
    "<h5>Syntax--> <strong>reduce(function_object,iterable)</strong></h5>\n",
    "\n",
    "<ol>\n",
    "<li>The <a href = \"https://www.geeksforgeeks.org/python-lambda-anonymous-functions-filter-map-reduce/\" > reduce()</a> function in Python takes in a function and a list as argument</li>\n",
    "<li>The function is called with a lambda function and a list and a new reduced result is returned</li>\n",
    "<li>This performs a repetitive operation over the pairs of the list</li>\n",
    "</ol>\n",
    "\n"
   ]
  },
  {
   "cell_type": "code",
   "execution_count": 80,
   "metadata": {},
   "outputs": [
    {
     "data": {
      "text/plain": [
       "28"
      ]
     },
     "execution_count": 80,
     "metadata": {},
     "output_type": "execute_result"
    }
   ],
   "source": [
    "from functools import reduce\n",
    "\n",
    "reduce(fun_obj_lambda_1,itr1)"
   ]
  }
 ],
 "metadata": {
  "kernelspec": {
   "display_name": "Python 3",
   "language": "python",
   "name": "python3"
  },
  "language_info": {
   "codemirror_mode": {
    "name": "ipython",
    "version": 3
   },
   "file_extension": ".py",
   "mimetype": "text/x-python",
   "name": "python",
   "nbconvert_exporter": "python",
   "pygments_lexer": "ipython3",
   "version": "3.6.5"
  }
 },
 "nbformat": 4,
 "nbformat_minor": 2
}
