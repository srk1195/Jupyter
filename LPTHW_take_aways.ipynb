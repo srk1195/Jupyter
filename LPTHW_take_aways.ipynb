{
  "cells": [
    {
      "metadata": {},
      "cell_type": "markdown",
      "source": "<h2>Content</h2>\n<ol>\n<li><a href=\"#-Input()-vs-raw_input()-\">Input() vs raw_input()</a></li>\n    <li><a href=\"#repr()-vs-str()-\">repr() vs str()</a></li>\n    <li><a href=\"#with-,-as-\"> With & as</a></li>\n    <li><a href=\"#global-and-nonlocal\"> global and non-local</a></li>\n    <li><a href=\"#exec()-vs-eval()\"> exec() vs eval()</a></li>\n</ol>\n"
    },
    {
      "metadata": {},
      "cell_type": "markdown",
      "source": "<h2> Input() vs raw_input() </h2>\n<ul>\n    <li> input() (py2.7) takes only a valid python expression ,else throws an <b>EOF line parsing</b> syntax error</li>\n    <li>Where as raw_input() takes any shit we give to it and neatly converts them to the <i> <b>str </b></i></li>\n    <li>In Python3, <b>raw_input()</b> name was changed to <b> input()</b> and the <b> input()(2.7)</b> was deprecated </li>\n    <li> That does mean in python 3 you can give any shit you want</li>\n    <li>We still can use the <b>input()</b> of py2.7 in python3 using <b><a href=\"https://www.programiz.com/python-programming/methods/built-in/eval\">eval()</a></b></li>\n</ul>"
    },
    {
      "metadata": {
        "trusted": false
      },
      "cell_type": "code",
      "source": "first = input()\nprint(\"the op is\",first)",
      "execution_count": 2,
      "outputs": [
        {
          "name": "stdout",
          "output_type": "stream",
          "text": "dasdasdasdasd-06446\nthe op is dasdasdasdasd-06446\n"
        }
      ]
    },
    {
      "metadata": {},
      "cell_type": "markdown",
      "source": "<h2>__repr__() vs __str()__ </h2>:\n<a href=\"https://docs.python.org/3/library/functions.html#repr\"><i>doc for repr</i></a> \n1. repr is more of clear and unambigous way of representing object. \n2. repr returns a string which yields an object similar to when passed to <a href=\"https://docs.python.org/3/library/functions.html#eval\"> eval() </a>\n3. str is just printing any object in simple printable statement."
    },
    {
      "metadata": {
        "trusted": false
      },
      "cell_type": "code",
      "source": "import datetime\n\na = datetime.datetime.utcnow()\n# The following returned an object which can be used for other devlopers like that.\nprint(repr(a)) \n# This is just a neat repr of the object without knowing of its true type.It kind of end users.\nprint(str(a))",
      "execution_count": 3,
      "outputs": [
        {
          "name": "stdout",
          "output_type": "stream",
          "text": "datetime.datetime(2018, 9, 24, 1, 15, 20, 301199)\n2018-09-24 01:15:20.301199\n"
        }
      ]
    },
    {
      "metadata": {
        "trusted": false
      },
      "cell_type": "code",
      "source": "# %time\n# The following is a simple example where we can see that the it's hard to find the representation as \n# both are evaluating to the strings\nprint(str(a))\nb = str(a)\nprint(repr(b))",
      "execution_count": 4,
      "outputs": [
        {
          "name": "stdout",
          "output_type": "stream",
          "text": "2018-09-24 01:15:20.301199\n'2018-09-24 01:15:20.301199'\n"
        }
      ]
    },
    {
      "metadata": {
        "trusted": false
      },
      "cell_type": "code",
      "source": "from sys import argv\n\nscript = argv\n\nprint(script)",
      "execution_count": 5,
      "outputs": [
        {
          "name": "stdout",
          "output_type": "stream",
          "text": "['C:\\\\Users\\\\ksair\\\\AppData\\\\Local\\\\Continuum\\\\anaconda3\\\\lib\\\\site-packages\\\\ipykernel_launcher.py', '-f', 'C:\\\\Users\\\\ksair\\\\AppData\\\\Roaming\\\\jupyter\\\\runtime\\\\kernel-95c3f689-3346-443a-8df9-fc861a01cbef.json']\n"
        }
      ]
    },
    {
      "metadata": {
        "trusted": false
      },
      "cell_type": "code",
      "source": "import os\n# Uni-code Escaping with the charecter '\\'\n\nwith open('C:\\\\Users\\\\ksair\\\\Desktop\\\\pi\\\\sam.txt','r') as f1:\n    print(f1.readlines()) # LIST tyoe\nf1.close();\n\nin_lines = ['Starks\\n','Lannisters\\n','Boltons\\n','Targereyns']\nwith open('C:\\\\Users\\\\ksair\\\\Desktop\\\\pi\\\\pro.txt','w') as f2:\n    f2.truncate()\n    f2.writelines(in_lines)\n# close the file obj\nf2.close()",
      "execution_count": 6,
      "outputs": [
        {
          "name": "stdout",
          "output_type": "stream",
          "text": "['this will be the BEST\\n', 'and another BESt\\n', 'lastBEST\\n', 'STARK']\n"
        }
      ]
    },
    {
      "metadata": {},
      "cell_type": "markdown",
      "source": "Asterix args (*args):\n<ol>\n<li> Used for Functions,basically when you dont know how many args you will pass to the function </li>\n    <li> Similar to <b>argv</b> of sys module.Unpack it and use</li>\n</ol>   "
    },
    {
      "metadata": {
        "trusted": false
      },
      "cell_type": "code",
      "source": "def unlimit(*args):\n    ag1,ag2,ag3 = args # 3 args unpacked: no errors\n    print(ag1+ag2+ag3)\nunlimit(1,1,1) # 3 args given",
      "execution_count": 7,
      "outputs": [
        {
          "name": "stdout",
          "output_type": "stream",
          "text": "3\n"
        }
      ]
    },
    {
      "metadata": {
        "trusted": false
      },
      "cell_type": "code",
      "source": "def unlimit(*args):\n    ag1,ag2,ag3 = args # But 3 args unpacked:  VALUEERROR\n    print(ag1+ag2+ag3)\nunlimit(1,1,1,20) # 4 args given",
      "execution_count": 8,
      "outputs": [
        {
          "ename": "ValueError",
          "evalue": "too many values to unpack (expected 3)",
          "output_type": "error",
          "traceback": [
            "\u001b[1;31m---------------------------------------------------------------------------\u001b[0m",
            "\u001b[1;31mValueError\u001b[0m                                Traceback (most recent call last)",
            "\u001b[1;32m<ipython-input-8-e13ab0dd3c17>\u001b[0m in \u001b[0;36m<module>\u001b[1;34m()\u001b[0m\n\u001b[0;32m      2\u001b[0m     \u001b[0mag1\u001b[0m\u001b[1;33m,\u001b[0m\u001b[0mag2\u001b[0m\u001b[1;33m,\u001b[0m\u001b[0mag3\u001b[0m \u001b[1;33m=\u001b[0m \u001b[0margs\u001b[0m \u001b[1;31m# But 3 args unpacked:  VALUEERROR\u001b[0m\u001b[1;33m\u001b[0m\u001b[0m\n\u001b[0;32m      3\u001b[0m     \u001b[0mprint\u001b[0m\u001b[1;33m(\u001b[0m\u001b[0mag1\u001b[0m\u001b[1;33m+\u001b[0m\u001b[0mag2\u001b[0m\u001b[1;33m+\u001b[0m\u001b[0mag3\u001b[0m\u001b[1;33m)\u001b[0m\u001b[1;33m\u001b[0m\u001b[0m\n\u001b[1;32m----> 4\u001b[1;33m \u001b[0munlimit\u001b[0m\u001b[1;33m(\u001b[0m\u001b[1;36m1\u001b[0m\u001b[1;33m,\u001b[0m\u001b[1;36m1\u001b[0m\u001b[1;33m,\u001b[0m\u001b[1;36m1\u001b[0m\u001b[1;33m,\u001b[0m\u001b[1;36m20\u001b[0m\u001b[1;33m)\u001b[0m \u001b[1;31m# 4 args given\u001b[0m\u001b[1;33m\u001b[0m\u001b[0m\n\u001b[0m",
            "\u001b[1;32m<ipython-input-8-e13ab0dd3c17>\u001b[0m in \u001b[0;36munlimit\u001b[1;34m(*args)\u001b[0m\n\u001b[0;32m      1\u001b[0m \u001b[1;32mdef\u001b[0m \u001b[0munlimit\u001b[0m\u001b[1;33m(\u001b[0m\u001b[1;33m*\u001b[0m\u001b[0margs\u001b[0m\u001b[1;33m)\u001b[0m\u001b[1;33m:\u001b[0m\u001b[1;33m\u001b[0m\u001b[0m\n\u001b[1;32m----> 2\u001b[1;33m     \u001b[0mag1\u001b[0m\u001b[1;33m,\u001b[0m\u001b[0mag2\u001b[0m\u001b[1;33m,\u001b[0m\u001b[0mag3\u001b[0m \u001b[1;33m=\u001b[0m \u001b[0margs\u001b[0m \u001b[1;31m# But 3 args unpacked:  VALUEERROR\u001b[0m\u001b[1;33m\u001b[0m\u001b[0m\n\u001b[0m\u001b[0;32m      3\u001b[0m     \u001b[0mprint\u001b[0m\u001b[1;33m(\u001b[0m\u001b[0mag1\u001b[0m\u001b[1;33m+\u001b[0m\u001b[0mag2\u001b[0m\u001b[1;33m+\u001b[0m\u001b[0mag3\u001b[0m\u001b[1;33m)\u001b[0m\u001b[1;33m\u001b[0m\u001b[0m\n\u001b[0;32m      4\u001b[0m \u001b[0munlimit\u001b[0m\u001b[1;33m(\u001b[0m\u001b[1;36m1\u001b[0m\u001b[1;33m,\u001b[0m\u001b[1;36m1\u001b[0m\u001b[1;33m,\u001b[0m\u001b[1;36m1\u001b[0m\u001b[1;33m,\u001b[0m\u001b[1;36m20\u001b[0m\u001b[1;33m)\u001b[0m \u001b[1;31m# 4 args given\u001b[0m\u001b[1;33m\u001b[0m\u001b[0m\n",
            "\u001b[1;31mValueError\u001b[0m: too many values to unpack (expected 3)"
          ]
        }
      ]
    },
    {
      "metadata": {},
      "cell_type": "markdown",
      "source": "<h3><b>with , as</b> </h3>\n<ol>\n    <li>as is used for aliasing</li>\n    <li>with is used to execute the two functions as pair</li>\n    <li>with automatically closes the files no matter</li>\n    <ul>\n    <li>Nested Blocks</li>\n        <li>It closes the file even before the exception is bought by handler</li>\n        <li>Even the block has the <i>return,continue,break</i> statments it closes the FILE..Pretty fuckin good</li>\n    </ul>"
    },
    {
      "metadata": {},
      "cell_type": "markdown",
      "source": "<h3> Positional args(*) and kwargs(**) </h3>\n<ol>\n    <li>*args gives us the space to collect morethan desired args.If we are not certain about the no:of args</li>\n    <li>*args returns the tuples</li>\n    <li>**kwargs returns a dict with key value pair</li>\n</ol>"
    },
    {
      "metadata": {
        "trusted": false
      },
      "cell_type": "code",
      "source": "def foo(*args,**kwargs):\n    if args:\n        print(\"This is args and item is\",args)\n        v1,v2,v3,v4 = args\n        print(\"sum of three args : \",v1+v2+v3)\n        \n    if kwargs:\n        print(\"this is kwargs and item is\",kwargs)\n        for key,item in kwargs.items():\n            print(key,item)\n    \n    # print(type(args))# tuple\n    # print(type(kwargs))# dict\n    \n\nfoo()\nfoo(1,2,3,'rahul')\nfoo(200,300,400,500,k1='2132233',k2='21312')",
      "execution_count": null,
      "outputs": []
    },
    {
      "metadata": {
        "trusted": false
      },
      "cell_type": "code",
      "source": "t1 = (1,2,3)\nprint(type(t1))\n# Unpacking Tuple values to the variables\na,b,c = t1\na+b+c",
      "execution_count": null,
      "outputs": []
    },
    {
      "metadata": {},
      "cell_type": "markdown",
      "source": "<h3>global and nonlocal</h3>"
    },
    {
      "metadata": {
        "trusted": true
      },
      "cell_type": "code",
      "source": "x_gl =12\nprint(\"before\",x_gl)\n\ndef foo_global():\n    global x_gl # changes variable to global scope\n    x_gl = 'sai'\n    return x_gl\n\nprint(foo_global())\nprint(x_gl)",
      "execution_count": 2,
      "outputs": [
        {
          "output_type": "stream",
          "text": "before 12\nsai\nsai\n",
          "name": "stdout"
        }
      ]
    },
    {
      "metadata": {},
      "cell_type": "markdown",
      "source": "<head>\n<style>\ntable, th, td {\n    border: 1px solid black;\n    border-collapse: collapse;\n    text-align: center;\n}\nth,td {\n    text-align: center;\n}\n</style>\n</head>\n<h3>exec() vs eval()</h3>\n<ul>\n    <li>Both takes python statements (or) expressions and executes them</li>\n    <li>Both are used for Dynamic Execution</li>\n    <li>But there are few differences when compared</li>\n</ul>\n<table style=\"width:100%\">\n    <caption>Differences of exec() and eval()</caption>\n  <tr>\n    <th>exec()</th>\n    <th>eval()</th> \n  </tr>\n  <tr>\n    <td>Takes single line to blocks of python code as argument</td>\n    <td>Takes Only one single expression as argument</td>\n  </tr>\n  <tr>\n      <td>Igonres the <i>return</i> value</td>\n      <td>returns the value</td>\n  </tr>\n  <tr>\n      <td>It takes keywords like <b>def,for,with....</b></td>\n    <td>It cannot take the keywords</td>\n  </tr>\n</table>"
    },
    {
      "metadata": {
        "trusted": true
      },
      "cell_type": "code",
      "source": "pg = \"for i in range(3):   print('python')\"\nexec(pg)\n#eval(pg) # error\nexec('foo_global()') # Ignores the return value\neval('foo_global()') # returns the value\n",
      "execution_count": 3,
      "outputs": [
        {
          "output_type": "stream",
          "text": "python\npython\npython\n",
          "name": "stdout"
        },
        {
          "output_type": "execute_result",
          "execution_count": 3,
          "data": {
            "text/plain": "'sai'"
          },
          "metadata": {}
        }
      ]
    },
    {
      "metadata": {},
      "cell_type": "markdown",
      "source": "<h2>OOPS !!</h2>"
    },
    {
      "metadata": {
        "trusted": false
      },
      "cell_type": "code",
      "source": "class Fruit(object):\n    '''This is Fruits class with HQ'''\n    # class variable \n    # Will be shared by all the instantaneous objects and can be manipulated by any one of them.\n    # If below class attribute is a mutable like dict,string,list... inst objects can modify them.\n    # Which may result in in-consistency.Generally,in any use-case people like to be NOT modified.\n    company = 'Red-dot' \n    \n    def orange(self):\n        return \"This is orange from Fruit company\",self.company\n\n\nFruit # <class '__main__.Fruit'>\n\n# Object Creation\nob1 = Fruit()\n\n# Accessing the class variables using inst obj and class obj\nob1.company # 'Red-dot'\nFruit.company # 'Red-dot'\n# Mutable class attributes can be modified by any inst obj and may cause inconsistency.\nob2 = Fruit()\nob2.company = ob2.company + \"changed\"\nprint(ob2.company)\nprint(ob1.company)\n\n\n# we can access the special attributes like __doc__\nob1.__doc__\n\nob1.orange # <bound method Fruit.orange of <__main__.Fruit object at 0x0000024E7BD0A240>>\n\nFruit.orange # <function __main__.Fruit.orange(self)>\n\nprint(\"This is called with the inst object\")\nprint(ob2.orange()) # This will be interpreted by python as Fruit.orange(ob2) \n\n# The above statement can be simulated like this\n# All the methods in class should be having self as the first parameter.\nFruit.orange(ob2) ",
      "execution_count": 20,
      "outputs": [
        {
          "name": "stdout",
          "output_type": "stream",
          "text": "Red-dotchanged\nRed-dot\nThis is called with the inst object\n('This is orange from Fruit company', 'Red-dotchanged')\n"
        },
        {
          "data": {
            "text/plain": "('This is orange from Fruit company', 'Red-dotchanged')"
          },
          "execution_count": 20,
          "metadata": {},
          "output_type": "execute_result"
        }
      ]
    },
    {
      "metadata": {},
      "cell_type": "markdown",
      "source": " <blockquote> return \"This is orange from Fruit company\",company </blockquote>\n <p>This statement from __orange()__ will cause an __NameError__ as company class attribute can be only accessed with the class obj (or) inst obj </p>"
    },
    {
      "metadata": {
        "trusted": false
      },
      "cell_type": "code",
      "source": "class Music(object):\n    \n    __this_is_hidden = 'Secret value'\n    def __init__(self,name,upvotes):\n        self.name = name\n        self.upvotes = upvotes\n        self.latest = \"Dont lie to me\"\n        \n    def payback(self,latest,downvotes):\n        # latest attr and self.latest attr are two different things\n        # latest is passed as the arg for payback() and changes with the each call.\n        # self.latest is created when the object is intialized and will be same for every inst obj\n        print('The obj has class attribute \"{0}\" and the passed arg for payback() is \"{1}\"'.format(self.latest,latest))\n        \n        print(f'Total hits will be {self.upvotes-downvotes}')\n        return \"The guy with {0} has {1} upvotes\".format(self.name,self.upvotes)\n\nob3 = Music('Backstreet Boys',2000)# p1 \nob3.payback('Never again',98) #p2\nob3._Music__this_is_hidden # Accessing the hidden values:: _Class__hiddenVar\n# del ob3",
      "execution_count": 9,
      "outputs": [
        {
          "name": "stdout",
          "output_type": "stream",
          "text": "The obj has class attribute \"Dont lie to me\" and the passed arg for payback() is \"Never again\"\nTotal hits will be 1902\n"
        },
        {
          "data": {
            "text/plain": "'Secret value'"
          },
          "execution_count": 9,
          "metadata": {},
          "output_type": "execute_result"
        }
      ]
    },
    {
      "metadata": {},
      "cell_type": "markdown",
      "source": "<b style=\"color:red;\">NOTE</b>\n<p>1. From the Above cell, An instance of class __Music__ is created and intialized with __name,upvotes__ and assigned to <i>ob3</i>  </p>\n<p>2. What python sees it as <i>Music.payback(ob3,'Never again',98)</i></p>\n<p>3. Hidden variables are also used in the classes.</p>"
    },
    {
      "metadata": {
        "trusted": false
      },
      "cell_type": "code",
      "source": "class Song(object):\n    def __init__(self,lyrics):\n        self.lyrics = lyrics\n    def show_song(self,a):\n        self.a = a\n        print(self.lyrics+self.a)\n    def check_song(self):\n        print(self.a)\n\ns1 = Song('Hey Bored!')\ns1.show_song('Wizz')\ns1.check_song()\n\n# s2 has it's own instances and cannot manipulate other instance variables.\n# we can see that s1 object has self.a (show_song() was called)\n# But in s2 obj case, self.a was not defined during the check_song() call which will come only \n# when show_song() is called.\ns2 = Song('Young Blood')\ns2.check_song()\ns2.show_song('summer')\n\n\ndel s1,s2",
      "execution_count": 1,
      "outputs": [
        {
          "name": "stdout",
          "output_type": "stream",
          "text": "Hey Bored!Wizz\nWizz\n"
        },
        {
          "ename": "AttributeError",
          "evalue": "'Song' object has no attribute 'a'",
          "output_type": "error",
          "traceback": [
            "\u001b[1;31m---------------------------------------------------------------------------\u001b[0m",
            "\u001b[1;31mAttributeError\u001b[0m                            Traceback (most recent call last)",
            "\u001b[1;32m<ipython-input-1-933bd19f9a44>\u001b[0m in \u001b[0;36m<module>\u001b[1;34m()\u001b[0m\n\u001b[0;32m     17\u001b[0m \u001b[1;31m# when show_song() is called.\u001b[0m\u001b[1;33m\u001b[0m\u001b[1;33m\u001b[0m\u001b[0m\n\u001b[0;32m     18\u001b[0m \u001b[0ms2\u001b[0m \u001b[1;33m=\u001b[0m \u001b[0mSong\u001b[0m\u001b[1;33m(\u001b[0m\u001b[1;34m'Young Blood'\u001b[0m\u001b[1;33m)\u001b[0m\u001b[1;33m\u001b[0m\u001b[0m\n\u001b[1;32m---> 19\u001b[1;33m \u001b[0ms2\u001b[0m\u001b[1;33m.\u001b[0m\u001b[0mcheck_song\u001b[0m\u001b[1;33m(\u001b[0m\u001b[1;33m)\u001b[0m\u001b[1;33m\u001b[0m\u001b[0m\n\u001b[0m\u001b[0;32m     20\u001b[0m \u001b[0ms2\u001b[0m\u001b[1;33m.\u001b[0m\u001b[0mshow_song\u001b[0m\u001b[1;33m(\u001b[0m\u001b[1;34m'summer'\u001b[0m\u001b[1;33m)\u001b[0m\u001b[1;33m\u001b[0m\u001b[0m\n\u001b[0;32m     21\u001b[0m \u001b[1;33m\u001b[0m\u001b[0m\n",
            "\u001b[1;32m<ipython-input-1-933bd19f9a44>\u001b[0m in \u001b[0;36mcheck_song\u001b[1;34m(self)\u001b[0m\n\u001b[0;32m      6\u001b[0m         \u001b[0mprint\u001b[0m\u001b[1;33m(\u001b[0m\u001b[0mself\u001b[0m\u001b[1;33m.\u001b[0m\u001b[0mlyrics\u001b[0m\u001b[1;33m+\u001b[0m\u001b[0mself\u001b[0m\u001b[1;33m.\u001b[0m\u001b[0ma\u001b[0m\u001b[1;33m)\u001b[0m\u001b[1;33m\u001b[0m\u001b[0m\n\u001b[0;32m      7\u001b[0m     \u001b[1;32mdef\u001b[0m \u001b[0mcheck_song\u001b[0m\u001b[1;33m(\u001b[0m\u001b[0mself\u001b[0m\u001b[1;33m)\u001b[0m\u001b[1;33m:\u001b[0m\u001b[1;33m\u001b[0m\u001b[0m\n\u001b[1;32m----> 8\u001b[1;33m         \u001b[0mprint\u001b[0m\u001b[1;33m(\u001b[0m\u001b[0mself\u001b[0m\u001b[1;33m.\u001b[0m\u001b[0ma\u001b[0m\u001b[1;33m)\u001b[0m\u001b[1;33m\u001b[0m\u001b[0m\n\u001b[0m\u001b[0;32m      9\u001b[0m \u001b[1;33m\u001b[0m\u001b[0m\n\u001b[0;32m     10\u001b[0m \u001b[0ms1\u001b[0m \u001b[1;33m=\u001b[0m \u001b[0mSong\u001b[0m\u001b[1;33m(\u001b[0m\u001b[1;34m'Hey Bored!'\u001b[0m\u001b[1;33m)\u001b[0m\u001b[1;33m\u001b[0m\u001b[0m\n",
            "\u001b[1;31mAttributeError\u001b[0m: 'Song' object has no attribute 'a'"
          ]
        }
      ]
    },
    {
      "metadata": {},
      "cell_type": "markdown",
      "source": "<h2>Inheritance -- The Evil Forest in the Programming.</h2>\n<h5>Syntax--> <strong>class Foo(Bar):</strong></h5>"
    },
    {
      "metadata": {},
      "cell_type": "markdown",
      "source": "<p>a.To use the classes functionality in another classes.Make a Class Foo which inherits from Bar </p>\n<p>b.Child class in-herits traits from the Parent class.It has 3 ways of interactions:</p>\n    <ol>\n<li>Actions on the child __imply__ an action on the parent</li>\n<li>Actions on the child __override__ the action on the parent</li>\n<li>Actions on the child __alter__ the action on the parent</li>\n</ol>\n<p>c. Every Class in-herits from 'object' class </p>"
    },
    {
      "metadata": {
        "trusted": false
      },
      "cell_type": "code",
      "source": "''' is-a relationship '''\nclass Parent(object):\n    \n    def implicit(self):\n         print(\"PARENT implicit()\")\n\n    def override(self):\n        print(\"PARENT override()\")\n    \n    def altered(self):\n        print (\"PARENT altered()\")\n\nclass Child(Parent):\n\n    def override(self):\n        print (\"CHILD override()\")\n\n    def altered(self):\n        print (\"CHILD, BEFORE PARENT altered()\")\n        super(Child, self) . altered()\n        # python 3\n        # Parent.altered(self)\n        print (\"CHILD, AFTER PARENT altered()\")\n\ndad = Parent()\nson = Child()\n\n# Here `dad` object of `Parent` class has the `implicit()` function and same has been inherited by the `Child` class\n# So,the `Child` class inherits the functions which it doesnt have from parent class and this is how all \n# the child classes gets the Base class features.\ndad. implicit()\nson. implicit()\nprint()\n\n# When you want to have a diff behaviour for the child then override the parent's class function with the same name.\ndad. override()\nson. override()\nprint()\n\n# Getting the Parent class where you need to alter the child's behaviour.It may be before or after the parent class\n# version runs.\ndad. altered()\nson. altered()",
      "execution_count": 24,
      "outputs": [
        {
          "name": "stdout",
          "output_type": "stream",
          "text": "PARENT implicit()\nPARENT implicit()\n\nPARENT override()\nCHILD override()\n\nPARENT altered()\nCHILD, BEFORE PARENT altered()\nPARENT altered()\nCHILD, AFTER PARENT altered()\n"
        }
      ]
    },
    {
      "metadata": {},
      "cell_type": "markdown",
      "source": "<b style=\"color:red;\">NOTE:</b> The <i>super()</i> is generally used with the __--init()--__.So,that child class gets the intialised variables"
    },
    {
      "metadata": {},
      "cell_type": "markdown",
      "source": "<h2>Composition</h2>\n<p> __has-a__ (composition) relationship can also do the samething as above __is-a__ (inheritance)relationship</p>"
    },
    {
      "metadata": {
        "trusted": false
      },
      "cell_type": "code",
      "source": "''' has-a relation ship '''\nclass Other(object):\n\n    def override(self):\n         print (\"OTHER override()\")\n\n    def implicit(self):\n        print (\"OTHER implicit()\")\n\n    def altered(self):\n        print (\"OTHER altered()\")\n\nclass Child(object):\n\n    def __init__(self):\n        self. other = Other()\n\n    def implicit(self):\n        self. other. implicit()\n\n    def override(self):\n        print (\"CHILD override()\")\n\n    def altered(self):\n        print (\"CHILD, BEFORE OTHER altered()\")\n        self. other. altered()\n        print (\"CHILD, AFTER OTHER altered()\")\n\nson = Child()\n\nson. implicit()\nson. override()\nson. altered()",
      "execution_count": 3,
      "outputs": [
        {
          "name": "stdout",
          "output_type": "stream",
          "text": "OTHER implicit()\nCHILD override()\nCHILD, BEFORE OTHER altered()\nOTHER altered()\nCHILD, AFTER OTHER altered()\n"
        }
      ]
    },
    {
      "metadata": {},
      "cell_type": "markdown",
      "source": "<h4>When to Use In-heritance or Composition ??</h4>\n<ul>\n<li>Inheritance solves this problem by creating a mechanism for you to have\nimplied features in base classes</li>\n<li>Composition solves this by giving you __modules__ and the ability to\nsimply call functions in other classes.</li>\n</ul> "
    },
    {
      "metadata": {},
      "cell_type": "markdown",
      "source": "<h3>Multiple In-heritance</h3>"
    },
    {
      "metadata": {
        "trusted": false
      },
      "cell_type": "code",
      "source": "class base1(object):\n    def __init__(self,count):\n        self.count = count\n        self.str1 = 'Wonder Woman'\n        print (\"base1\")\n\nclass base2(object):\n    def __init__(self,a,b):\n        self.str2 = 'Batman'\n        self.a = a\n        self.b = b\n        print('base2')\n        print (self.a+self.b)\n\nclass child(base1,base2):\n    def __init__(self):\n        #initializing the constructors of base classes\n        base1.__init__(self,3)\n        base2.__init__(self,300,400)\n        print ('child')\n        \n    def printsss(self):\n        print (self.str1)\n        print (self.str2)\n        print (self.count)\n\nprint(child.__mro__) # Tuple\nprint(child.mro()) # List\nprint()\nprint(issubclass(base1,object))\nprint(issubclass(base2,object))\nprint()\nob = child()\nob.printsss()",
      "execution_count": 2,
      "outputs": [
        {
          "name": "stdout",
          "output_type": "stream",
          "text": "(<class '__main__.child'>, <class '__main__.base1'>, <class '__main__.base2'>, <class 'object'>)\n[<class '__main__.child'>, <class '__main__.base1'>, <class '__main__.base2'>, <class 'object'>]\n\nTrue\nTrue\n\n[<class '__main__.base1'>, <class 'object'>]\nbase1\nbase2\n700\nchild\nWonder Woman\nBatman\n3\n"
        }
      ]
    },
    {
      "metadata": {},
      "cell_type": "markdown",
      "source": "<h2>lambda functions</h2>\n<h5>Syntax--> <strong>lambda arguments : expression</strong></h5>\n<ul>\n    <li>While normal functions are defined using the <b>def</b> keyword,anonymous functions are defined using the <b> <a href=\"https://medium.com/@happymishra66/lambda-map-and-filter-in-python-4935f248593\">lambda</a></b> keyword.</li>\n    <li>Any number of arguments but only single expression </li>\n    <li><a href=\"https://www.programiz.com/python-programming/anonymous-function\">Lambda functions </a> always return the function object and can be assigned to normal variables</li>\n    <li>Lambda Functions are generally used with <b>filter,map,reduce</b> functions which takes function object as the first argument</li>\n</ul>\n"
    },
    {
      "metadata": {
        "trusted": false
      },
      "cell_type": "code",
      "source": "def normal_python(p,q):\n    return p%q\n\nnormal_python(10,8) # 2\n\n# anonymous functions\nfun_obj_lambda = lambda p: p%2 == 0; # It will give a fun object and added to a variable\nfun_obj_lambda_1 = lambda x,y: x+y; \n\ntype(fun_obj_lambda) # function",
      "execution_count": 12,
      "outputs": [
        {
          "data": {
            "text/plain": "function"
          },
          "execution_count": 12,
          "metadata": {},
          "output_type": "execute_result"
        }
      ]
    },
    {
      "metadata": {},
      "cell_type": "markdown",
      "source": "<h2>filter()</h2>\n<h5>Syntax--> <strong>filter(function_object, iterable)</strong></h5>\n\n<ol>\n    <li><a href=\"https://www.programiz.com/python-programming/methods/built-in/filter\">filter()</a> takes a function (or) function object as the first argument and iterable as next argument</li>\n     <li>The lambda function is called with all the items in the list and a new list is returned which contains items for which the function evaluates to True.</li>\n<li>filter() returns filter object which gets lazily evaluated</li>\n    <li>Neither we can access the elements of the filter object with <i>index</i> nor we can use <i>len()</i> to find the length of the filter object.The filter object needs to converted to a list</li>\n    <li><a href=\"https://en.wikipedia.org/wiki/Lazy_evaluation#Python\">lazy evaluation</a></li>\n</ol>"
    },
    {
      "metadata": {
        "trusted": false
      },
      "cell_type": "code",
      "source": "itr1 = [1,2,3,4,5,6,7]\n\n# returns a filter object and assigned to a variable\nitr1_filtered = filter(fun_obj_lambda,itr1) \n\n\nitr1_list = list(itr1_filtered)# filter object converted to list \n\n# we got only the elements which evaluated to true\nprint(itr1_list) ",
      "execution_count": 13,
      "outputs": [
        {
          "name": "stdout",
          "output_type": "stream",
          "text": "[2, 4, 6]\n"
        }
      ]
    },
    {
      "metadata": {},
      "cell_type": "markdown",
      "source": "<h2> map()</h2>\n<h5>Syntax--> <strong>map(function_object, iterable1, iterable2,...)</strong></h5>\n\n<ol>\n    <li><a href=\"https://medium.com/@happymishra66/lambda-map-and-filter-in-python-4935f248593\">map()</a> executes the function_object for each element in the iterable seq and returns a list of the elements modified by the function object.</li>\n<li>Neither we can access the elements of the map object with index nor we can use len() to find the length of the map object.The map object needs to converted to a list</li>\n</ol>"
    },
    {
      "metadata": {
        "trusted": false
      },
      "cell_type": "code",
      "source": "itr2 = [{'name': 'python', 'points': 10}, {'name': 'java', 'points': 8}]\nitr3 = [1,2,3,4,5,6,7]\n\n\n\n# returns the map object # p2 \nitr2_mapped = map(lambda x: x['name']*2,itr2)\nitr2_mapped1 = map(lambda p,q: p+q,itr1,itr3) # p arg takes itr1 and q arg takes itr3\n\nprint(itr2_mapped1)\n\n#map object converted to a list\nmapped_list = list(itr2_mapped1)\n\n# Lazy Evaluation.They are Evaluated at only one time. And for next time they get exhausted like below.\nmapped_list1 = list(itr2_mapped1)\nprint(mapped_list1)\n\nmapped_list\n",
      "execution_count": 14,
      "outputs": [
        {
          "name": "stdout",
          "output_type": "stream",
          "text": "<map object at 0x00000269DB132048>\n[]\n"
        },
        {
          "data": {
            "text/plain": "[2, 4, 6, 8, 10, 12, 14]"
          },
          "execution_count": 14,
          "metadata": {},
          "output_type": "execute_result"
        }
      ]
    },
    {
      "metadata": {},
      "cell_type": "markdown",
      "source": "<h2> filter () vs map() </h2>\n \n <a href=\"https://www.programiz.com/python-programming/methods/built-in/map\">map()</a> can take multiple iterables where as filter takes one iterable"
    },
    {
      "metadata": {
        "trusted": false
      },
      "cell_type": "code",
      "source": "# filter returns the items from given iterator which evaluates to TRUE\nprint(list(filter(lambda x: x%2 == 0,itr1))) \n\n#map() returns the values of the expression\nprint(list(map(lambda x: x%2 == 0 ,itr1)))\n\n# here filter takes one element as input and can perform the x+100 expression with each element.\n# So, every item evaluates to true\nprint(list(filter(lambda x : x+100,itr1)))\n\n# here map returned the output of the expression x+100\nprint(list(map(lambda x : x+100,itr1)))\n\n",
      "execution_count": 15,
      "outputs": [
        {
          "name": "stdout",
          "output_type": "stream",
          "text": "[2, 4, 6]\n[False, True, False, True, False, True, False]\n[1, 2, 3, 4, 5, 6, 7]\n[101, 102, 103, 104, 105, 106, 107]\n"
        }
      ]
    },
    {
      "metadata": {},
      "cell_type": "markdown",
      "source": "<h2> reduce() </h2>\n\n<h5>Syntax--> <strong>reduce(function_object,iterable)</strong></h5>\n\n<ol>\n<li>The <a href = \"https://www.geeksforgeeks.org/python-lambda-anonymous-functions-filter-map-reduce/\" > reduce()</a> function in Python takes in a function and a list as argument</li>\n<li>The function is called with a lambda function and a list and a new reduced result is returned</li>\n<li>This performs a repetitive operation over the pairs of the list</li>\n</ol>\n\n"
    },
    {
      "metadata": {
        "trusted": false
      },
      "cell_type": "code",
      "source": "from functools import reduce\n\nreduce(fun_obj_lambda_1,itr1)",
      "execution_count": 16,
      "outputs": [
        {
          "data": {
            "text/plain": "28"
          },
          "execution_count": 16,
          "metadata": {},
          "output_type": "execute_result"
        }
      ]
    },
    {
      "metadata": {},
      "cell_type": "markdown",
      "source": "<h2>zip()</h2>\n<h5>Syntax--> <strong>zip(iterable1, iterable2,...)</strong></h5>\n\n<ol>\n    <li> <a href=\"https://medium.com/@happymishra66/zip-in-python-48cb4f70d013\">zip()</a> creates n iterables as inputs and creates <i>list of tuples</i> with <b>i <i>th</i></b> element of each iterable</li>\n<li>If the no:of elements are not equal,zip creates the list of tuples of length equal to the smallest iterable</li>\n<li>zip() in python3 returns a zip object just like the filter,map.Converting to list will get us the list of tuples.</li>\n    <li><b style=\"color:red;\">NOTE: </b> Iterators returns only element at a time. len function cannot be used with iterators. We can loop over the zip object or the iterator to get the actual list</li>\n    <li>The iterators will be exhausted after converting them to list by lazy evaluation for one time</li>\n</ol>"
    },
    {
      "metadata": {
        "trusted": false
      },
      "cell_type": "code",
      "source": "zipped = zip(itr1,itr1)\nl1 = list(zipped)\nprint(l1)\n\n# Iterator exhausted after iterating for one time during the list conversion of the zip object\n# Iterator objects are converted to lists at the time we required and we can use the converted list to iterate\n# but not the iterator object.\nl2 = list(zipped)\nprint(l2)\n\n#l1[0][1]['name']",
      "execution_count": 17,
      "outputs": [
        {
          "name": "stdout",
          "output_type": "stream",
          "text": "[(1, 1), (2, 2), (3, 3), (4, 4), (5, 5), (6, 6), (7, 7)]\n[]\n"
        }
      ]
    },
    {
      "metadata": {
        "trusted": false
      },
      "cell_type": "code",
      "source": "# this is getting each element at one time.Not Lazy Evaluation.\nfor item in itr1:\n    print(item)\n\nfor item in itr1:\n    print(item)",
      "execution_count": 20,
      "outputs": [
        {
          "name": "stdout",
          "output_type": "stream",
          "text": "1\n2\n3\n4\n5\n6\n7\n1\n2\n3\n4\n5\n6\n7\n"
        }
      ]
    },
    {
      "metadata": {},
      "cell_type": "markdown",
      "source": "<h2>Iterators</h2>\n\n<p>a. <a href=\"https://www.programiz.com/python-programming/iterator\">Iterators</a> are the objects on which we can iterate to get the values one at each time</p>\n<p>b. They are used with built-ins like lists,tuples,strings.</p>\n<p>c. Any object is called iterable if we can have the __iterator__</p>\n<p>d. The iter() function (which in turn calls the __--iter--__() method) returns an iterator from them.</p>"
    },
    {
      "metadata": {},
      "cell_type": "markdown",
      "source": "<b style=\"color:red;\">NOTE</b>: Any object can be called __iterator__ if it implements __--iter()--__ and __--next()--__ special methods(<b style=\"color:green;\">Iterator Protocol</b>)"
    },
    {
      "metadata": {
        "trusted": false
      },
      "cell_type": "code",
      "source": "itr_list = [1,23,62,'rahul']\n\nitr_obj = iter(itr_list)\nprint(itr_obj)\n\nnext(itr_obj) # 1\nnext(itr_obj) # 23\nnext(itr_obj) # 62\nnext(itr_obj) # 'rahul'\n# next(itr_obj) # StopIteration exception\n\n",
      "execution_count": 4,
      "outputs": [
        {
          "name": "stdout",
          "output_type": "stream",
          "text": "<list_iterator object at 0x000001FF4CDD2B00>\n"
        },
        {
          "data": {
            "text/plain": "'rahul'"
          },
          "execution_count": 4,
          "metadata": {},
          "output_type": "execute_result"
        }
      ]
    },
    {
      "metadata": {},
      "cell_type": "markdown",
      "source": "<b style=\"color:red;\">NOTE</b>:  __for__ loop automatically implements the __next()__ and raises __stopIteration__ exception"
    },
    {
      "metadata": {
        "trusted": false
      },
      "cell_type": "code",
      "source": "for item in iter(itr_list):\n    print(item)",
      "execution_count": 62,
      "outputs": [
        {
          "name": "stdout",
          "output_type": "stream",
          "text": "1\n23\n62\nrahul\n"
        }
      ]
    },
    {
      "metadata": {},
      "cell_type": "markdown",
      "source": "<h2>Generators</h2>\n\n<h4>1.What are <a href=\"https://www.programiz.com/python-programming/generator\">generators</a> ?</h4>\n    <p> a. Generators are also kind of iterators where it overcomes few problems like implementing of <b>--iter()--</b>  and __--next()--__ and to raise the stopIteration exception when iterator is empty</p>\n    <p>b. Generators overcomes this by implementing those automatically.These are dynamic objects and doest store values in memory like iterators.</p>\n    <p>c. Generators are something which returns on object(iterator) when we call it and we need to iterate over it </p>\n    <p>d. If a function contains atleast one __yield__ statement then it becomes a generator function.Function may contain multiple __return__ and __yield__ statements.Both returns some values.</p>\n    <p>e. __return()__ terminates the function but __yield__ pauses the function and stores the internal states for further successive calls untill it hits no value or __StopIteration__</p>\n    <p>d. Python generators are a simple way of __creating iterators__,a generator is a function that returns an object (iterator)</p>\n<br>\n<h4>2.Differences from Normal function</h4>\n    <p>a. Generator functions contain one or more __yield__ statements</p>\n    <p>b. When ever we call it, it returns a object but doesn't start the execution.We got a object needs to be iterated.</p>\n    <p>c. Whenever the function yields, internal states are remembered for further calls and __StopIteration__ will be raised after the function terminates.</p>"
    },
    {
      "metadata": {
        "trusted": false
      },
      "cell_type": "code",
      "source": "def bar():\n    n=1\n    print('First yield value',n)\n    yield n;\n    \n    n=n+1\n    print('second yield value',n)\n    yield n;\n    \n    n=n+1\n    print('Third yield value',n)\n    yield n;\n\nmy_gen = bar()\nprint(my_gen) # <generator object bar at 0x00000269DB1214C0>\nnext(my_gen)\nnext(my_gen)\nnext(my_gen)\n# next(my_gen) # raises the stopIteration exception\n\n# if you want to iterate once again through it's values you should create another generator object.\nmy_gen_2 = bar()\nprint(\"-----second gen object------\")\nnext(my_gen_2)\nnext(my_gen_2)\nnext(my_gen_2)",
      "execution_count": 7,
      "outputs": [
        {
          "name": "stdout",
          "output_type": "stream",
          "text": "<generator object bar at 0x000001FF4CE926D0>\nFirst yield value 1\nsecond yield value 2\nThird yield value 3\n-----second gen object------\nFirst yield value 1\nsecond yield value 2\nThird yield value 3\n"
        },
        {
          "data": {
            "text/plain": "3"
          },
          "execution_count": 7,
          "metadata": {},
          "output_type": "execute_result"
        }
      ]
    },
    {
      "metadata": {},
      "cell_type": "markdown",
      "source": "<b style=\"color:red\">NOTE</b>: Whenever a object is returned by gen function we can use a __for__ loop as it implements the __next()__ for iterating through values and __StopIteration__ after end of the values automatically.You can check <a href=\"https://www.programiz.com/python-programming/iterator#for-loop-working\">here</a>"
    },
    {
      "metadata": {
        "trusted": false
      },
      "cell_type": "code",
      "source": "my_gen_3 = bar()\n\nfor item in my_gen_3:\n    print(item)",
      "execution_count": 35,
      "outputs": [
        {
          "name": "stdout",
          "output_type": "stream",
          "text": "First yield value 1\n1\nsecond yield value 2\n2\nThird yield value 3\n3\n"
        }
      ]
    },
    {
      "metadata": {
        "trusted": false
      },
      "cell_type": "code",
      "source": "def rev_the_string(string):\n    for i in range(len(string)-1,-1,-1):\n        yield string[i];\n\n# we got the gen object         \nmy_gen_4 = rev_the_string(\"hello\")\n\nfor item in my_gen_4:\n    print(item)\n# Direct function calling in the for loop\nfor item in rev_the_string(\"Brother\"):\n    print(item)",
      "execution_count": 43,
      "outputs": [
        {
          "name": "stdout",
          "output_type": "stream",
          "text": "o\nl\nl\ne\nh\nr\ne\nh\nt\no\nr\nB\n"
        }
      ]
    },
    {
      "metadata": {},
      "cell_type": "markdown",
      "source": "<h3>Generator expressions</h3>\n<ul>\n<li>Just like list Comprehensions but () paranthesis are used instead of brackets.This is more easy way to create gen objects</li>\n<li>List Comprehensions returns the all the values at a time.Gen expressions are returning the values one at a time.They are lazily evaluated.</li>\n<li>Fucking memory efficient as they are not remembered in memory after it is terminated</li>\n</ul>"
    },
    {
      "metadata": {
        "trusted": false
      },
      "cell_type": "code",
      "source": "#List Comprehensions\nli_cmp = [x**2 for x in range(5)]\nprint(li_cmp)\n\n# Gen expressions\nmy_gen_5 = (x**2 for x in range(5))\nprint(my_gen_5)\nfor item in my_gen_5:\n    print(item)",
      "execution_count": 6,
      "outputs": [
        {
          "name": "stdout",
          "output_type": "stream",
          "text": "[0, 1, 4, 9, 16]\n<generator object <genexpr> at 0x000001FF4CE92518>\n0\n1\n4\n9\n16\n"
        }
      ]
    },
    {
      "metadata": {},
      "cell_type": "markdown",
      "source": "<b style=\"color:red;\">NOTE</b>:We can club the generators with functions,string,tuples,lists"
    },
    {
      "metadata": {
        "trusted": false
      },
      "cell_type": "code",
      "source": "# we can see that we have dropped a paranthesis inside the functions.\nmax(x**2 for x in range(5))\nlist(x+500 for x in range(5))",
      "execution_count": 5,
      "outputs": [
        {
          "data": {
            "text/plain": "[500, 501, 502, 503, 504]"
          },
          "execution_count": 5,
          "metadata": {},
          "output_type": "execute_result"
        }
      ]
    },
    {
      "metadata": {},
      "cell_type": "markdown",
      "source": "<h2>Collections</h2>\n<ul>\n    <li>Defaultdict()</li>\n</ul>"
    },
    {
      "metadata": {
        "trusted": false
      },
      "cell_type": "code",
      "source": "dic1 = {'rahul':123,'sai':456}\n\nprint(dic1.keys())\nprint(dic1.values())\nprint(dic1.items())\n\nfor i in dic1.items():\n    print(type(i))\nfor i in dic1.keys():\n    print(i)\n\nif 123 in dic1.values():\n    print(\"there\")",
      "execution_count": 1,
      "outputs": [
        {
          "name": "stdout",
          "output_type": "stream",
          "text": "dict_keys(['rahul', 'sai'])\ndict_values([123, 456])\ndict_items([('rahul', 123), ('sai', 456)])\n<class 'tuple'>\n<class 'tuple'>\nrahul\nsai\nthere\n"
        }
      ]
    },
    {
      "metadata": {},
      "cell_type": "markdown",
      "source": "<b style=\"color:red;\">NOTE</b>: __in__ operator for dicts by defalut searches on the keys untill you mention the values.(for i in dic1.values())"
    },
    {
      "metadata": {},
      "cell_type": "markdown",
      "source": "<h4>defaultdict()</h4>\n\n<p>\n    \"The standard dictionary includes the method setdefault() for retrieving a value and establishing a default if the value does not exist</p> <p>By contrast, <a href=\"https://docs.python.org/3.3/library/collections.html#collections.defaultdict\">defaultdict</a> lets the caller specify the default(value to be returned) up front when the container is initialized.\"\n</p>\n"
    },
    {
      "metadata": {
        "trusted": false
      },
      "cell_type": "code",
      "source": "from collections import defaultdict\n\ndef some_fun():\n    return 'some string'\n\n# Intializing \nd_int_1 = defaultdict(int)\nd_list = defaultdict(list)\nd_fun = defaultdict(some_fun)\n\nprint(d_int_1)\nprint(d_list)\nprint(d_fun)\n\nprint(d_int_1.default_factory) # prints out the default factory\n\nd_int_1.default_factory=some_fun # changed the default factory\n\nprint(d_int_1.default_factory)",
      "execution_count": 2,
      "outputs": [
        {
          "name": "stdout",
          "output_type": "stream",
          "text": "defaultdict(<class 'int'>, {})\ndefaultdict(<class 'list'>, {})\ndefaultdict(<function some_fun at 0x000001BA0C313B70>, {})\n<class 'int'>\n<function some_fun at 0x000001BA0C313B70>\n"
        }
      ]
    },
    {
      "metadata": {},
      "cell_type": "markdown",
      "source": "<b style=\"color:red;\">NOTE</b>: First Argument is type of <i>default factory</i>, Second argument is <i>**kwargs</i>\n<p>set(),list(),str(),int() are default factories</p>"
    },
    {
      "metadata": {
        "trusted": false
      },
      "cell_type": "code",
      "source": "d_int = defaultdict(int, a=10, b=12, c=13)\nd_int",
      "execution_count": 3,
      "outputs": [
        {
          "data": {
            "text/plain": "defaultdict(int, {'a': 10, 'b': 12, 'c': 13})"
          },
          "execution_count": 3,
          "metadata": {},
          "output_type": "execute_result"
        }
      ]
    },
    {
      "metadata": {},
      "cell_type": "markdown",
      "source": "<p>How defaultdict works ???</p>"
    },
    {
      "metadata": {
        "trusted": false
      },
      "cell_type": "code",
      "source": "print(d_int['a']) # This key exists in the d_int.\n\n# The 'x' is not present in the d_int.So,the default factory value which is zero for int came in.No Error is raised\nprint(d_int['x']) ",
      "execution_count": 4,
      "outputs": [
        {
          "name": "stdout",
          "output_type": "stream",
          "text": "10\n0\n"
        }
      ]
    },
    {
      "metadata": {
        "trusted": false
      },
      "cell_type": "code",
      "source": "s = [('yellow', 1), ('blue', 2), ('yellow', 3), ('blue', 4), ('red', 1)]\nd = defaultdict(list)\nfor k, v in s:\n    print(type(d[k]))\n    d[k].append(v)\n\nprint(\"keys are:\")\nfor _ in d.keys():\n    print(_)\n    # print(type(_)) #<class 'str'>\n\nprint(\"values are:\")    \nfor i in d.values():\n    print(i)\n    # print(type(i)) # <class 'list'>\n\nprint(\"items are\")\nfor _ in d.items():\n    print(_)\n    # print(type(_)) # <class 'tuple'>\n\nprint(d)\nprint(list(d.items()))\nprint(d['rahul']) # An empty set",
      "execution_count": 5,
      "outputs": [
        {
          "name": "stdout",
          "output_type": "stream",
          "text": "<class 'list'>\n<class 'list'>\n<class 'list'>\n<class 'list'>\n<class 'list'>\nkeys are:\nyellow\nblue\nred\nvalues are:\n[1, 3]\n[2, 4]\n[1]\nitems are\n('yellow', [1, 3])\n('blue', [2, 4])\n('red', [1])\ndefaultdict(<class 'list'>, {'yellow': [1, 3], 'blue': [2, 4], 'red': [1]})\n[('yellow', [1, 3]), ('blue', [2, 4]), ('red', [1])]\n[]\n"
        }
      ]
    },
    {
      "metadata": {
        "trusted": false
      },
      "cell_type": "code",
      "source": "s = [('red', 1), ('blue', 2), ('red', 3), ('blue', 4), ('red', 1), ('blue', 4)]\ndd = defaultdict(set)\n\nfor k,v in s:\n    print(k,v)\n\nprint(\"==========\")\nfor k,v in s:\n    # print(type(dd[k])) # <class 'set'>\n    dd[k].add(v)\n\nprint(dd)",
      "execution_count": 12,
      "outputs": [
        {
          "name": "stdout",
          "output_type": "stream",
          "text": "red 1\nblue 2\nred 3\nblue 4\nred 1\nblue 4\n==========\ndefaultdict(<class 'set'>, {'red': {1, 3}, 'blue': {2, 4}})\n"
        }
      ]
    },
    {
      "metadata": {
        "trusted": false
      },
      "cell_type": "code",
      "source": "for k in dd.keys():\n    print(k)\nfor v in dd.values():\n    print(v)\n    \nfor k,v in dd.items():\n    print(k,v)",
      "execution_count": 24,
      "outputs": [
        {
          "name": "stdout",
          "output_type": "stream",
          "text": "red\nblue\n{1, 3}\n{2, 4}\nred {1, 3}\nblue {2, 4}\n"
        }
      ]
    },
    {
      "metadata": {
        "trusted": true
      },
      "cell_type": "code",
      "source": "# from Azure\ntype(list)",
      "execution_count": 5,
      "outputs": [
        {
          "output_type": "execute_result",
          "execution_count": 5,
          "data": {
            "text/plain": "type"
          },
          "metadata": {}
        }
      ]
    }
  ],
  "metadata": {
    "kernelspec": {
      "name": "python3",
      "display_name": "Python 3",
      "language": "python"
    },
    "language_info": {
      "mimetype": "text/x-python",
      "nbconvert_exporter": "python",
      "name": "python",
      "file_extension": ".py",
      "version": "3.5.4",
      "pygments_lexer": "ipython3",
      "codemirror_mode": {
        "version": 3,
        "name": "ipython"
      }
    }
  },
  "nbformat": 4,
  "nbformat_minor": 2
}