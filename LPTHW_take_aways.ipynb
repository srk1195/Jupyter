{
 "cells": [
  {
   "cell_type": "markdown",
   "metadata": {},
   "source": [
    "Input() vs raw_input()\n",
    "<ul>\n",
    "    <li> input() (py2.7) takes only a valid python expression ,else throws an <b>EOF line parsing</b> syntax error</li>\n",
    "    <li>Where as raw_input() takes any shit we give to it and neatly converts them to the <i> <b>str </b></i></li>\n",
    "    <li>In Python3, <b>raw_input()</b> name was changed to <b> input()</b> and the <b> input()(2.7)</b> was deprecated </li>\n",
    "    <li> That does mean in python 3 you can give any shit you want</li>\n",
    "</ul>"
   ]
  },
  {
   "cell_type": "code",
   "execution_count": 9,
   "metadata": {},
   "outputs": [
    {
     "name": "stdout",
     "output_type": "stream",
     "text": [
      "dsapojdp12-0\n",
      "the op is dsapojdp12-0\n"
     ]
    }
   ],
   "source": [
    "first = input()\n",
    "print(\"the op is\",first)"
   ]
  },
  {
   "cell_type": "markdown",
   "metadata": {},
   "source": [
    "__repr__() vs __str()__ :\n",
    "<a href=\"https://docs.python.org/3/library/functions.html#repr\"><i>doc for repr</i></a> \n",
    "1. repr is more of clear and unambigous way of representing object. \n",
    "2. repr returns a string which yields an object similar to when passed to <a href=\"https://docs.python.org/3/library/functions.html#eval\"> eval() </a>\n",
    "3. str is just printing any object in simple printable statement."
   ]
  },
  {
   "cell_type": "code",
   "execution_count": 7,
   "metadata": {},
   "outputs": [
    {
     "name": "stdout",
     "output_type": "stream",
     "text": [
      "datetime.datetime(2018, 9, 12, 4, 0, 17, 315414)\n",
      "2018-09-12 04:00:17.315414\n"
     ]
    }
   ],
   "source": [
    "import datetime\n",
    "\n",
    "a = datetime.datetime.utcnow()\n",
    "# The following returned an object which can be used for other devlopers like that.\n",
    "print(repr(a)) \n",
    "# This is just a neat repr of the object without knowing of its true type.It kind of end users.\n",
    "print(str(a))"
   ]
  },
  {
   "cell_type": "code",
   "execution_count": 8,
   "metadata": {},
   "outputs": [
    {
     "name": "stdout",
     "output_type": "stream",
     "text": [
      "2018-09-12 04:00:17.315414\n",
      "'2018-09-12 04:00:17.315414'\n"
     ]
    }
   ],
   "source": [
    "# %time\n",
    "# The following is a simple example where we can see that the it's hard to find the representation as \n",
    "# both are evaluating to the strings\n",
    "print(str(a))\n",
    "b = str(a)\n",
    "print(repr(b))"
   ]
  },
  {
   "cell_type": "code",
   "execution_count": 12,
   "metadata": {},
   "outputs": [
    {
     "name": "stdout",
     "output_type": "stream",
     "text": [
      "['C:\\\\Users\\\\ksair\\\\AppData\\\\Local\\\\Continuum\\\\anaconda3\\\\lib\\\\site-packages\\\\ipykernel_launcher.py', '-f', 'C:\\\\Users\\\\ksair\\\\AppData\\\\Roaming\\\\jupyter\\\\runtime\\\\kernel-a2499064-ea42-4586-bf56-3febd9b06a55.json']\n"
     ]
    }
   ],
   "source": [
    "from sys import argv\n",
    "\n",
    "script = argv\n",
    "\n",
    "print(script)"
   ]
  },
  {
   "cell_type": "code",
   "execution_count": 14,
   "metadata": {},
   "outputs": [
    {
     "name": "stdout",
     "output_type": "stream",
     "text": [
      "['this will be the BEST\\n', 'and another BESt\\n', 'lastBEST\\n', 'STARK']\n"
     ]
    }
   ],
   "source": [
    "import os\n",
    "# Uni-code Escaping with the charecter '\\'\n",
    "\n",
    "with open('C:\\\\Users\\\\ksair\\\\Desktop\\\\pi\\\\sam.txt','r') as f1:\n",
    "    print(f1.readlines()) # LIST tyoe\n",
    "f1.close();\n",
    "\n",
    "in_lines = ['Starks\\n','Lannisters\\n','Boltons\\n','Targereyns']\n",
    "with open('C:\\\\Users\\\\ksair\\\\Desktop\\\\pi\\\\pro.txt','w') as f2:\n",
    "    f2.truncate()\n",
    "    f2.writelines(in_lines)\n",
    "# close the file obj\n",
    "f2.close()"
   ]
  },
  {
   "cell_type": "markdown",
   "metadata": {},
   "source": [
    "Asterix args (*args):\n",
    "<ol>\n",
    "<li> Used for Functions,basically when you dont know how many args you will pass to the function </li>\n",
    "    <li> Similar to <b>argv</b> of sys module.Unpack it and use</li>\n",
    "</ol>   "
   ]
  },
  {
   "cell_type": "code",
   "execution_count": 6,
   "metadata": {},
   "outputs": [
    {
     "name": "stdout",
     "output_type": "stream",
     "text": [
      "3\n"
     ]
    }
   ],
   "source": [
    "def unlimit(*args):\n",
    "    ag1,ag2,ag3 = args # 3 args unpacked: no errors\n",
    "    print(ag1+ag2+ag3)\n",
    "unlimit(1,1,1) # 3 args given"
   ]
  },
  {
   "cell_type": "code",
   "execution_count": 7,
   "metadata": {},
   "outputs": [
    {
     "ename": "ValueError",
     "evalue": "too many values to unpack (expected 3)",
     "output_type": "error",
     "traceback": [
      "\u001b[1;31m---------------------------------------------------------------------------\u001b[0m",
      "\u001b[1;31mValueError\u001b[0m                                Traceback (most recent call last)",
      "\u001b[1;32m<ipython-input-7-d9d3beff4a55>\u001b[0m in \u001b[0;36m<module>\u001b[1;34m()\u001b[0m\n\u001b[0;32m      2\u001b[0m     \u001b[0mag1\u001b[0m\u001b[1;33m,\u001b[0m\u001b[0mag2\u001b[0m\u001b[1;33m,\u001b[0m\u001b[0mag3\u001b[0m \u001b[1;33m=\u001b[0m \u001b[0margs\u001b[0m \u001b[1;31m# 3 args unpacked: no errors\u001b[0m\u001b[1;33m\u001b[0m\u001b[0m\n\u001b[0;32m      3\u001b[0m     \u001b[0mprint\u001b[0m\u001b[1;33m(\u001b[0m\u001b[0mag1\u001b[0m\u001b[1;33m+\u001b[0m\u001b[0mag2\u001b[0m\u001b[1;33m+\u001b[0m\u001b[0mag3\u001b[0m\u001b[1;33m)\u001b[0m\u001b[1;33m\u001b[0m\u001b[0m\n\u001b[1;32m----> 4\u001b[1;33m \u001b[0munlimit\u001b[0m\u001b[1;33m(\u001b[0m\u001b[1;36m1\u001b[0m\u001b[1;33m,\u001b[0m\u001b[1;36m1\u001b[0m\u001b[1;33m,\u001b[0m\u001b[1;36m1\u001b[0m\u001b[1;33m,\u001b[0m\u001b[1;36m20\u001b[0m\u001b[1;33m)\u001b[0m \u001b[1;31m# 3 args given\u001b[0m\u001b[1;33m\u001b[0m\u001b[0m\n\u001b[0m",
      "\u001b[1;32m<ipython-input-7-d9d3beff4a55>\u001b[0m in \u001b[0;36munlimit\u001b[1;34m(*args)\u001b[0m\n\u001b[0;32m      1\u001b[0m \u001b[1;32mdef\u001b[0m \u001b[0munlimit\u001b[0m\u001b[1;33m(\u001b[0m\u001b[1;33m*\u001b[0m\u001b[0margs\u001b[0m\u001b[1;33m)\u001b[0m\u001b[1;33m:\u001b[0m\u001b[1;33m\u001b[0m\u001b[0m\n\u001b[1;32m----> 2\u001b[1;33m     \u001b[0mag1\u001b[0m\u001b[1;33m,\u001b[0m\u001b[0mag2\u001b[0m\u001b[1;33m,\u001b[0m\u001b[0mag3\u001b[0m \u001b[1;33m=\u001b[0m \u001b[0margs\u001b[0m \u001b[1;31m# 3 args unpacked: no errors\u001b[0m\u001b[1;33m\u001b[0m\u001b[0m\n\u001b[0m\u001b[0;32m      3\u001b[0m     \u001b[0mprint\u001b[0m\u001b[1;33m(\u001b[0m\u001b[0mag1\u001b[0m\u001b[1;33m+\u001b[0m\u001b[0mag2\u001b[0m\u001b[1;33m+\u001b[0m\u001b[0mag3\u001b[0m\u001b[1;33m)\u001b[0m\u001b[1;33m\u001b[0m\u001b[0m\n\u001b[0;32m      4\u001b[0m \u001b[0munlimit\u001b[0m\u001b[1;33m(\u001b[0m\u001b[1;36m1\u001b[0m\u001b[1;33m,\u001b[0m\u001b[1;36m1\u001b[0m\u001b[1;33m,\u001b[0m\u001b[1;36m1\u001b[0m\u001b[1;33m,\u001b[0m\u001b[1;36m20\u001b[0m\u001b[1;33m)\u001b[0m \u001b[1;31m# 3 args given\u001b[0m\u001b[1;33m\u001b[0m\u001b[0m\n",
      "\u001b[1;31mValueError\u001b[0m: too many values to unpack (expected 3)"
     ]
    }
   ],
   "source": [
    "def unlimit(*args):\n",
    "    ag1,ag2,ag3 = args # But 3 args unpacked:  VALUEERROR\n",
    "    print(ag1+ag2+ag3)\n",
    "unlimit(1,1,1,20) # 4 args given"
   ]
  },
  {
   "cell_type": "markdown",
   "metadata": {},
   "source": [
    "<b>with , as</b>\n",
    "<ol>\n",
    "    <li>as is used for aliasing</li>\n",
    "    <li>with is used to execute the two functions as pair</li>\n",
    "    <li>with automatically closes the files no matter</li>\n",
    "    <ul>\n",
    "    <li>Nested Blocks</li>\n",
    "        <li>It closes the file even before the exception is bought by handler</li>\n",
    "        <li>Even the block has the <i>return,continue,break</i> statments it closes the FILE..Pretty fuckin good</li>\n",
    "    </ul>"
   ]
  }
 ],
 "metadata": {
  "kernelspec": {
   "display_name": "Python 3",
   "language": "python",
   "name": "python3"
  },
  "language_info": {
   "codemirror_mode": {
    "name": "ipython",
    "version": 3
   },
   "file_extension": ".py",
   "mimetype": "text/x-python",
   "name": "python",
   "nbconvert_exporter": "python",
   "pygments_lexer": "ipython3",
   "version": "3.6.5"
  }
 },
 "nbformat": 4,
 "nbformat_minor": 2
}
