{
 "cells": [
  {
   "cell_type": "code",
   "execution_count": 107,
   "metadata": {},
   "outputs": [],
   "source": [
    "import numpy as np\n",
    "import numpy.linalg as la\n",
    "\n",
    "v = np.array([[1, 0, 2, 6],\n",
    "              [0, 1, 8, 2],\n",
    "              [2, 8, 3, 1],\n",
    "              [1, -6, 2, 3]], dtype=np.float_)"
   ]
  },
  {
   "cell_type": "markdown",
   "metadata": {},
   "source": [
    "<b>Note</b> : axis = 0 {Column} & axis = 1 {Row} "
   ]
  },
  {
   "cell_type": "code",
   "execution_count": 2,
   "metadata": {},
   "outputs": [
    {
     "data": {
      "text/plain": [
       "3.0"
      ]
     },
     "execution_count": 2,
     "metadata": {},
     "output_type": "execute_result"
    }
   ],
   "source": [
    "v[:, 0]  # selecting a entire column\n",
    "v[0]  # selecting entire row\n",
    "v[2, 2]"
   ]
  },
  {
   "cell_type": "code",
   "execution_count": 3,
   "metadata": {},
   "outputs": [
    {
     "data": {
      "text/plain": [
       "28.0"
      ]
     },
     "execution_count": 3,
     "metadata": {},
     "output_type": "execute_result"
    }
   ],
   "source": [
    "# v1 @ v2 : Dot Product\n",
    "v[0] @ v[1]"
   ]
  },
  {
   "cell_type": "code",
   "execution_count": 4,
   "metadata": {},
   "outputs": [
    {
     "name": "stdout",
     "output_type": "stream",
     "text": [
      "[0.40824829 0.         0.81649658 0.40824829]\n",
      "2.449489742783178\n"
     ]
    }
   ],
   "source": [
    "# normailising the zero'th column\n",
    "x = v[:, 0] / la.norm(v[:, 0])  # getting a unit vector for any given vector.\n",
    "print(x)\n",
    "print(la.norm(v[:, 0])) # Magnitude of a given vector"
   ]
  },
  {
   "cell_type": "code",
   "execution_count": 5,
   "metadata": {},
   "outputs": [
    {
     "name": "stdout",
     "output_type": "stream",
     "text": [
      "[-1.66666667  1.          4.66666667 -7.66666667]\n",
      "10.04987562112089\n",
      "[0. 0. 0. 0.]\n",
      "[-0.1814885   0.1088931   0.50816781 -0.83484711]\n"
     ]
    }
   ],
   "source": [
    "# Normalising the first column\n",
    "x1 = v[:, 1] - (v[:, 1] @ x) * x\n",
    "print(x1)\n",
    "print(la.norm(v[:, 1]))\n",
    "print(np.zeros_like(x1))\n",
    "x1 = x1/la.norm(x1)\n",
    "print(x1)"
   ]
  },
  {
   "cell_type": "code",
   "execution_count": 6,
   "metadata": {},
   "outputs": [
    {
     "name": "stdout",
     "output_type": "stream",
     "text": [
      "[ 0.39920949  7.96047431 -0.51778656  0.63636364]\n",
      "The Normalised vector for second column is: [ 0.04982278  0.99349591 -0.06462163  0.07942048]\n"
     ]
    }
   ],
   "source": [
    "# Normilising the second column --> U3 = V3 - (V3.e1)e1 - (V3.e2)e2\n",
    "\n",
    "x2 = v[:, 2] - (v[:, 2] @ x) * x - (v[:, 2] @ x1) * x1\n",
    "print(x2)\n",
    "print(\"The Normalised vector for second column is:\", x2 / la.norm(x2))\n",
    "x2 = x2 / la.norm(x2) # Take unit vector when the magnitude is > 0 else it would be a 1/0 ZeroDivisionError"
   ]
  },
  {
   "cell_type": "code",
   "execution_count": 7,
   "metadata": {},
   "outputs": [
    {
     "name": "stdout",
     "output_type": "stream",
     "text": [
      "[ 3.52370252 -0.13131811 -1.05054485 -1.42261282]\n",
      "The Normalised vector for second column is: [ 0.89325973 -0.03328918 -0.26631346 -0.36063281]\n"
     ]
    }
   ],
   "source": [
    "# Normalising the third column i.e, last column of the matrix U4 = V4 - (V4.e1)e1 - (V4.e2)e2 - (v4.e3)e3\n",
    "x3 = v[:,3] - (v[:,3] @ x) * x - (v[:,3] @ x1) * x1 - (v[:,3] @ x2 ) * x2\n",
    "print(x3)\n",
    "print(\"The Normalised vector for second column is:\", x3 / la.norm(x3))\n",
    "x3=x3 / la.norm(x3)"
   ]
  },
  {
   "cell_type": "code",
   "execution_count": 8,
   "metadata": {},
   "outputs": [
    {
     "name": "stdout",
     "output_type": "stream",
     "text": [
      "The OrthoNormal Basis vectors are : \n",
      "\n",
      " [[ 0.40824829  0.          0.81649658  0.40824829]\n",
      " [-0.1814885   0.1088931   0.50816781 -0.83484711]\n",
      " [ 0.04982278  0.99349591 -0.06462163  0.07942048]\n",
      " [ 0.89325973 -0.03328918 -0.26631346 -0.36063281]]\n"
     ]
    }
   ],
   "source": [
    "X = np.array([x,x1,x2,x3])\n",
    "print(\"The OrthoNormal Basis vectors are : \\n\\n\",X) # printed in row wise"
   ]
  },
  {
   "cell_type": "code",
   "execution_count": 9,
   "metadata": {},
   "outputs": [
    {
     "data": {
      "text/plain": [
       "9.71445146547012e-17"
      ]
     },
     "execution_count": 9,
     "metadata": {},
     "output_type": "execute_result"
    }
   ],
   "source": [
    "#lets check if they are normal\n",
    "x1 @ x2"
   ]
  },
  {
   "cell_type": "code",
   "execution_count": 10,
   "metadata": {},
   "outputs": [],
   "source": [
    "verySmallNumber = 1e-14  # That's 1×10⁻¹⁴ = 0.00000000000001\n",
    "\n",
    "# Our first function will perform the Gram-Schmidt procedure for 4 basis vectors.\n",
    "# We'll take this list of vectors as the columns of a matrix, A.\n",
    "# We'll then go through the vectors one at a time and set them to be orthogonal\n",
    "# to all the vectors that came before it. Before normalising.\n",
    "# Follow the instructions inside the function at each comment.\n",
    "# You will be told where to add code to complete the function.\n",
    "\n",
    "\n",
    "def gsBasis4(A):\n",
    "    # Make B as a copy of A, since we're going to alter it's values.\n",
    "    B = np.array(A, dtype=np.float_)\n",
    "    \n",
    "    # The zeroth column is easy, since it has no other vectors to make it normal to.\n",
    "    # All that needs to be done is to normalise it. I.e. divide by its modulus, or norm.\n",
    "    B[:, 0] = B[:, 0] / la.norm(B[:, 0])\n",
    "    \n",
    "    # For the first column, we need to subtract any overlap with our new zeroth vector.\n",
    "    B[:, 1] = B[:, 1] - (B[:, 1] @ B[:, 0]) * B[:, 0]\n",
    "    # If there's anything left after that subtraction, then B[:, 1] is linearly independant of B[:, 0]\n",
    "    # If this is the case, we can normalise it. Otherwise we'll set that vector to zero.\n",
    "    if la.norm(B[:, 1]) > verySmallNumber:\n",
    "        B[:, 1] = B[:, 1] / la.norm(B[:, 1])\n",
    "    else:\n",
    "        B[:, 1] = np.zeros_like(B[:, 1])\n",
    "    \n",
    "    # Now we need to repeat the process for column 2.\n",
    "    # Insert two lines of code, the first to subtract the overlap with the zeroth vector,\n",
    "    # and the second to subtract the overlap with the first.\n",
    "    B[:, 2] = B[:, 2] - (B[:, 2] @ B[:, 0]) * B[:, 0]\n",
    "    B[:, 2] = B[:, 2] - (B[:, 2] @ B[:, 1]) * B[:, 1]\n",
    "    # Again we'll need to normalise our new vector.\n",
    "    # Copy and adapt the normalisation fragment from above to column 2.\n",
    "    if la.norm(B[:, 2]) > verySmallNumber:\n",
    "        B[:, 2] = B[:, 2] / la.norm(B[:, 2])\n",
    "    else:\n",
    "        B[:, 2] = np.zeros_like(B[:, 2])\n",
    "\n",
    "    # Finally, column three:\n",
    "    # Insert code to subtract the overlap with the first three vectors.\n",
    "    B[:, 3] = B[:, 3] - B[:, 3] @ B[:, 0] * B[:, 0]\n",
    "    B[:, 3] = B[:, 3] - B[:, 3] @ B[:, 1] * B[:, 1]\n",
    "    B[:, 3] = B[:, 3] - B[:, 3] @ B[:, 2] * B[:, 2]\n",
    "    # Now normalise if possible\n",
    "\n",
    "    if la.norm(B[:, 3]) > verySmallNumber:\n",
    "        B[:, 3] = B[:, 3] / la.norm(B[:, 3])\n",
    "    else:\n",
    "        B[:, 3] = np.zeros_like(B[:, 3])\n",
    "\n",
    "    # Finally, we return the result:\n",
    "    return B\n",
    "\n",
    "def dimensions(A):\n",
    "    return np.sum(la.norm(gsBasis4(A), axis=0))"
   ]
  },
  {
   "cell_type": "code",
   "execution_count": 11,
   "metadata": {},
   "outputs": [
    {
     "name": "stdout",
     "output_type": "stream",
     "text": [
      "[[ 0.40824829 -0.1814885   0.04982278  0.89325973]\n",
      " [ 0.          0.1088931   0.99349591 -0.03328918]\n",
      " [ 0.81649658  0.50816781 -0.06462163 -0.26631346]\n",
      " [ 0.40824829 -0.83484711  0.07942048 -0.36063281]]\n",
      "\n",
      "The Rank of the Orthonormal basis vector matrix V is :  4.0\n"
     ]
    }
   ],
   "source": [
    "print(gsBasis4(v))\n",
    "print(\"\\nThe Rank of the Orthonormal basis vector matrix V is : \",dimensions(v))"
   ]
  },
  {
   "cell_type": "code",
   "execution_count": 94,
   "metadata": {},
   "outputs": [
    {
     "data": {
      "text/plain": [
       "array([[ 1.,  0.,  2.,  6.],\n",
       "       [ 0.,  1.,  8.,  2.],\n",
       "       [ 2.,  8.,  3.,  1.],\n",
       "       [ 1., -6.,  2.,  3.]])"
      ]
     },
     "execution_count": 94,
     "metadata": {},
     "output_type": "execute_result"
    }
   ],
   "source": [
    "v"
   ]
  },
  {
   "cell_type": "code",
   "execution_count": 42,
   "metadata": {},
   "outputs": [
    {
     "name": "stdout",
     "output_type": "stream",
     "text": [
      "0\n",
      "1\n",
      "2\n"
     ]
    }
   ],
   "source": [
    "for i in range(3):\n",
    "    print(i)"
   ]
  },
  {
   "cell_type": "code",
   "execution_count": 108,
   "metadata": {},
   "outputs": [
    {
     "name": "stdout",
     "output_type": "stream",
     "text": [
      "i 0\n",
      "[1. 0. 2. 1.]\n",
      "i 1\n",
      "[ 0.  1.  8. -6.]\n",
      "0\n",
      "i 2\n",
      "[2. 8. 3. 2.]\n",
      "0\n",
      "1\n",
      "i 3\n",
      "[6. 2. 1. 3.]\n",
      "0\n",
      "1\n",
      "2\n",
      "[[ 1.  0.  2.  6.]\n",
      " [ 0.  1.  8.  2.]\n",
      " [ 2.  8.  3.  1.]\n",
      " [ 1. -6.  2.  3.]]\n"
     ]
    }
   ],
   "source": [
    "b1=v\n",
    "\n",
    "for i in range(b1.shape[1]):\n",
    "    print(\"i\",i)\n",
    "    print(v[:, i])\n",
    "    \n",
    "    for j in range(i):\n",
    "        print(j)\n",
    "print(v)"
   ]
  },
  {
   "cell_type": "code",
   "execution_count": 109,
   "metadata": {},
   "outputs": [
    {
     "name": "stdout",
     "output_type": "stream",
     "text": [
      "i 0\n",
      "[1. 0. 2. 1.]\n",
      "\n",
      "The First Vector is : [0.40824829 0.         0.81649658 0.40824829]\n",
      "\n",
      "\n",
      "i 1\n",
      "[ 0.  1.  8. -6.]\n",
      "j -->  0\n",
      "b1[:, i] [ 0.  1.  8. -6.]\n",
      "b1[:, j] [0.40824829 0.         0.81649658 0.40824829]\n",
      "\n",
      "The First Vector is : [-0.1814885   0.1088931   0.50816781 -0.83484711]\n",
      "\n",
      "\n",
      "i 2\n",
      "[2. 8. 3. 2.]\n",
      "j -->  0\n",
      "b1[:, i] [2. 8. 3. 2.]\n",
      "b1[:, j] [0.40824829 0.         0.81649658 0.40824829]\n",
      "j -->  1\n",
      "b1[:, i] [ 0.33333333  8.         -0.33333333  0.33333333]\n",
      "b1[:, j] [-0.1814885   0.1088931   0.50816781 -0.83484711]\n",
      "\n",
      "The First Vector is : [ 0.04982278  0.99349591 -0.06462163  0.07942048]\n",
      "\n",
      "\n",
      "i 3\n",
      "[6. 2. 1. 3.]\n",
      "j -->  0\n",
      "b1[:, i] [6. 2. 1. 3.]\n",
      "b1[:, j] [0.40824829 0.         0.81649658 0.40824829]\n",
      "j -->  1\n",
      "b1[:, i] [ 4.16666667  2.         -2.66666667  1.16666667]\n",
      "b1[:, j] [-0.1814885   0.1088931   0.50816781 -0.83484711]\n",
      "j -->  2\n",
      "b1[:, i] [ 3.64624506  2.31225296 -1.20948617 -1.22727273]\n",
      "b1[:, j] [ 0.04982278  0.99349591 -0.06462163  0.07942048]\n",
      "\n",
      "The First Vector is : [ 0.89325973 -0.03328918 -0.26631346 -0.36063281]\n",
      "\n",
      "\n"
     ]
    }
   ],
   "source": [
    "for i in range(b1.shape[1]):\n",
    "    print(\"i\", i)\n",
    "    print(v[:, i])\n",
    "\n",
    "    for j in range(i):\n",
    "        print(\"j --> \",j)\n",
    "        print(\"b1[:, i]\",b1[:, i])\n",
    "        print(\"b1[:, j]\",b1[:, j])\n",
    "        \n",
    "        b1[:, i] = b1[:, i] - (b1[:, i] @ b1[:, j]) * b1[:, j]\n",
    "\n",
    "    if la.norm(b1[:, i]) > verySmallNumber:\n",
    "            b1[:, i] = b1[:, i] / la.norm(b1[:, i])\n",
    "    else:\n",
    "            b1[:, i] = np.zeros_like(b1[:, i])\n",
    "            \n",
    "    print(\"\\nThe First Vector is :\",b1[:, i])\n",
    "    print(\"\\n\")"
   ]
  },
  {
   "cell_type": "code",
   "execution_count": 103,
   "metadata": {},
   "outputs": [
    {
     "name": "stdout",
     "output_type": "stream",
     "text": [
      "[[ 0.40824829 -0.1814885   0.04982278  0.89325973]\n",
      " [ 0.          0.1088931   0.99349591 -0.03328918]\n",
      " [ 0.81649658  0.50816781 -0.06462163 -0.26631346]\n",
      " [ 0.40824829 -0.83484711  0.07942048 -0.36063281]]\n"
     ]
    }
   ],
   "source": [
    "print(b1)"
   ]
  },
  {
   "cell_type": "code",
   "execution_count": 68,
   "metadata": {},
   "outputs": [],
   "source": [
    "# The second part of this exercise will generalise the procedure.\n",
    "# Previously, we could only have four vectors, and there was a lot of repeating in the code.\n",
    "# We'll use a for-loop here to iterate the process for each vector.\n",
    "def gsBasis(A) :\n",
    "    B = np.array(A, dtype=np.float_) # Make B as a copy of A, since we're going to alter it's values.\n",
    "    \n",
    "    # Loop over all vectors, starting with zero, label them with i\n",
    "    for i in range(B.shape[1]) :\n",
    "        # Inside that loop, loop over all previous vectors, j, to subtract.\n",
    "        for j in range(i) :\n",
    "            # Complete the code to subtract the overlap with previous vectors.\n",
    "            # you'll need the current vector B[:, i] and a previous vector B[:, j]\n",
    "            B[:, i] = B[:, i] - B[:, i] @ B[:, j] * B[:, j]\n",
    "        # Next insert code to do the normalisation test for B[:, i]\n",
    "        if la.norm(B[:, i]) > verySmallNumber :\n",
    "            B[:, i] = B[:, i] / la.norm(B[:, i])\n",
    "        else :\n",
    "            B[:, i] = np.zeros_like(B[:, i])\n",
    "        \n",
    "            \n",
    "    # Finally, we return the result:\n",
    "    return B\n",
    "\n",
    "# This function uses the Gram-schmidt process to calculate the dimension\n",
    "# spanned by a list of vectors.\n",
    "# Since each vector is normalised to one, or is zero,\n",
    "# the sum of all the norms will be the dimension.\n",
    "def dimensions(A) :\n",
    "    return np.sum(la.norm(gsBasis(A), axis=0))"
   ]
  },
  {
   "cell_type": "code",
   "execution_count": 27,
   "metadata": {},
   "outputs": [
    {
     "data": {
      "text/plain": [
       "array([[ 0.40824829, -0.1814885 ,  0.04982278,  0.89325973],\n",
       "       [ 0.        ,  0.1088931 ,  0.99349591, -0.03328918],\n",
       "       [ 0.81649658,  0.50816781, -0.06462163, -0.26631346],\n",
       "       [ 0.40824829, -0.83484711,  0.07942048, -0.36063281]])"
      ]
     },
     "execution_count": 27,
     "metadata": {},
     "output_type": "execute_result"
    }
   ],
   "source": [
    "gsBasis(v)"
   ]
  },
  {
   "cell_type": "code",
   "execution_count": 114,
   "metadata": {},
   "outputs": [
    {
     "name": "stdout",
     "output_type": "stream",
     "text": [
      "[[1. 0. 0. 0.]\n",
      " [0. 1. 0. 0.]]\n"
     ]
    },
    {
     "data": {
      "text/plain": [
       "2.0"
      ]
     },
     "execution_count": 114,
     "metadata": {},
     "output_type": "execute_result"
    }
   ],
   "source": [
    "#Non-Square Matrices\n",
    "\n",
    "c = np.array([[1,2,3,4],\n",
    "              [0,6,2,1]],dtype=np.float)\n",
    "print(gsBasis(c))\n",
    "dimensions(c)"
   ]
  },
  {
   "cell_type": "code",
   "execution_count": 120,
   "metadata": {},
   "outputs": [
    {
     "name": "stdout",
     "output_type": "stream",
     "text": [
      "[[1. 2. 3. 4.]\n",
      " [0. 6. 2. 1.]\n",
      " [2. 4. 6. 8.]]\n",
      "[[0.4472136  0.         0.         0.        ]\n",
      " [0.         1.         0.         0.        ]\n",
      " [0.89442719 0.         0.         0.        ]]\n"
     ]
    },
    {
     "data": {
      "text/plain": [
       "2.0"
      ]
     },
     "execution_count": 120,
     "metadata": {},
     "output_type": "execute_result"
    }
   ],
   "source": [
    "# LD columns\n",
    "d = np.array([[1,2,3,4],\n",
    "              [0,6,2,1],\n",
    "              [2,4,6,8]],dtype=np.float)\n",
    "print(d)\n",
    "print(gsBasis(d))\n",
    "dimensions(d)"
   ]
  },
  {
   "cell_type": "code",
   "execution_count": 119,
   "metadata": {},
   "outputs": [
    {
     "name": "stdout",
     "output_type": "stream",
     "text": [
      "[[1. 2. 3. 4.]\n",
      " [0. 6. 2. 1.]\n",
      " [2. 4. 6. 8.]]\n"
     ]
    }
   ],
   "source": [
    "print(d[:])"
   ]
  },
  {
   "cell_type": "markdown",
   "metadata": {},
   "source": [
    "<h2> Reflecting Bear </h2>"
   ]
  },
  {
   "cell_type": "code",
   "execution_count": 121,
   "metadata": {},
   "outputs": [],
   "source": [
    "from numpy import transpose"
   ]
  },
  {
   "cell_type": "code",
   "execution_count": 123,
   "metadata": {},
   "outputs": [],
   "source": [
    "# GRADED FUNCTION\n",
    "# This is the cell you should edit and submit.\n",
    "\n",
    "# In this function, you will return the transformation matrix T,\n",
    "# having built it out of an orthonormal basis set E that you create from Bear's Basis\n",
    "# and a transformation matrix in the mirror's coordinates TE.\n",
    "def build_reflection_matrix(bearBasis) : # The parameter bearBasis is a 2×2 matrix that is passed to the function.\n",
    "    # Use the gsBasis function on bearBasis to get the mirror's orthonormal basis.\n",
    "    E = gsBasis(bearBasis)\n",
    "    # Write a matrix in component form that perform's the mirror's reflection in the mirror's basis.\n",
    "    # Recall, the mirror operates by negating the last component of a vector.\n",
    "    # Replace a,b,c,d with appropriate values\n",
    "    TE = np.array([[1, 0],\n",
    "                    [0, -1]])\n",
    "    # Combine the matrices E and TE to produce your transformation matrix.\n",
    "    #T = E*TE*transpose(E)\n",
    "    T = E @ TE @ transpose(E)\n",
    "    # Finally, we return the result. There is no need to change this line.\n",
    "    return T"
   ]
  },
  {
   "cell_type": "code",
   "execution_count": 125,
   "metadata": {},
   "outputs": [
    {
     "data": {
      "text/plain": [
       "array([[-0.92307692,  0.38461538],\n",
       "       [ 0.38461538,  0.92307692]])"
      ]
     },
     "execution_count": 125,
     "metadata": {},
     "output_type": "execute_result"
    }
   ],
   "source": [
    "bear_basis = np.array([[1,-1],\n",
    "                        [5,-2]])\n",
    "build_reflection_matrix(bear_basis)"
   ]
  },
  {
   "cell_type": "code",
   "execution_count": 133,
   "metadata": {},
   "outputs": [],
   "source": [
    "vv = np.array([[1,-1],\n",
    "               [5,-2]])"
   ]
  },
  {
   "cell_type": "code",
   "execution_count": 138,
   "metadata": {},
   "outputs": [
    {
     "name": "stdout",
     "output_type": "stream",
     "text": [
      "[[ 1 -1]\n",
      " [ 5 -2]]\n",
      "[[ 1 -1]\n",
      " [ 5 -2]]\n"
     ]
    },
    {
     "data": {
      "text/plain": [
       "array([[-4,  1],\n",
       "       [-5, -1]])"
      ]
     },
     "execution_count": 138,
     "metadata": {},
     "output_type": "execute_result"
    }
   ],
   "source": [
    "print(bear_basis)\n",
    "print(vv)\n",
    "bear_basis[:] @ vv[:] # Matrix Mul"
   ]
  },
  {
   "cell_type": "code",
   "execution_count": 139,
   "metadata": {},
   "outputs": [
    {
     "data": {
      "text/plain": [
       "array([[ 1,  1],\n",
       "       [25,  4]])"
      ]
     },
     "execution_count": 139,
     "metadata": {},
     "output_type": "execute_result"
    }
   ],
   "source": [
    "bear_basis * vv"
   ]
  },
  {
   "cell_type": "markdown",
   "metadata": {},
   "source": [
    "<h3> Page Rank Example </h3>"
   ]
  },
  {
   "cell_type": "code",
   "execution_count": 3,
   "metadata": {},
   "outputs": [
    {
     "name": "stdout",
     "output_type": "stream",
     "text": [
      "Populating the interactive namespace from numpy and matplotlib\n"
     ]
    }
   ],
   "source": [
    "%pylab notebook\n",
    "import numpy as np\n",
    "import numpy.linalg as la\n",
    "np.set_printoptions(suppress=True)"
   ]
  },
  {
   "cell_type": "code",
   "execution_count": 5,
   "metadata": {},
   "outputs": [],
   "source": [
    "# Link Matrix for the mini-network. Each Column Describes the Probability of going to other website by clicking a link.\n",
    "# Each Rows describe the, A user entering a random website in search rather than following links\n",
    "\n",
    "L = np.array([\n",
    "    [0, 1/2, 1/3, 0, 0, 0],\n",
    "    [1/3, 0, 0, 0, 1/2, 0],\n",
    "    [1/3, 1/2, 0, 1, 0, 1/2],\n",
    "    [1/3, 0, 1/3, 0, 1/2, 1/2],\n",
    "    [0, 0, 0, 0, 0, 0],\n",
    "    [0, 0, 1/3, 0, 0, 0]\n",
    "])"
   ]
  },
  {
   "cell_type": "code",
   "execution_count": 6,
   "metadata": {},
   "outputs": [
    {
     "name": "stdout",
     "output_type": "stream",
     "text": [
      "[[0.         0.5        0.33333333 0.         0.         0.        ]\n",
      " [0.33333333 0.         0.         0.         0.5        0.        ]\n",
      " [0.33333333 0.5        0.         1.         0.         0.5       ]\n",
      " [0.33333333 0.         0.33333333 0.         0.5        0.5       ]\n",
      " [0.         0.         0.         0.         0.         0.        ]\n",
      " [0.         0.         0.33333333 0.         0.         0.        ]]\n"
     ]
    }
   ],
   "source": [
    "print(L)"
   ]
  },
  {
   "cell_type": "code",
   "execution_count": 8,
   "metadata": {},
   "outputs": [],
   "source": [
    "#Get the Eigen Values & Eigen Vector for the Link Matrix(L)\n",
    "eVals,eVecs = la.eig(L)"
   ]
  },
  {
   "cell_type": "code",
   "execution_count": 15,
   "metadata": {},
   "outputs": [
    {
     "name": "stdout",
     "output_type": "stream",
     "text": [
      "[ 1.        +0.j          0.31416979+0.j         -0.54288045+0.30393757j\n",
      " -0.54288045-0.30393757j -0.2284089 +0.j          0.        +0.j        ]\n"
     ]
    }
   ],
   "source": [
    "print(eVals)\n",
    "# print(eVecs)"
   ]
  },
  {
   "cell_type": "code",
   "execution_count": 26,
   "metadata": {},
   "outputs": [
    {
     "name": "stdout",
     "output_type": "stream",
     "text": [
      "[[ 0.30769231+0.j          0.25448371-0.35792579j  0.25448371+0.35792579j\n",
      "   0.53116445+0.j         -0.2944915 +0.j         -0.80178373+0.j        ]\n",
      " [ 0.1025641 +0.j         -0.02528834+0.23392751j -0.02528834-0.23392751j\n",
      "   0.5635641 +0.j          0.42977236+0.j          0.        +0.j        ]\n",
      " [ 0.76923077+0.j         -0.70289147-0.j         -0.70289147+0.j\n",
      "  -0.34471868+0.j         -0.44286511+0.j          0.        +0.j        ]\n",
      " [ 0.48717949+0.j          0.1451085 +0.30796164j  0.1451085 -0.30796164j\n",
      "  -0.38426425+0.j         -0.33872028+0.j          0.26726124+0.j        ]\n",
      " [ 0.        +0.j          0.        -0.j          0.        +0.j\n",
      "   0.        +0.j          0.        +0.j          0.53452248+0.j        ]\n",
      " [ 0.25641026+0.j          0.32858759-0.18396336j  0.32858759+0.18396336j\n",
      "  -0.36574562+0.j          0.64630452+0.j          0.        +0.j        ]]\n"
     ]
    }
   ],
   "source": [
    "order = np.absolute(eVals).argsort()[::-1]\n",
    "evals = eVals[order]\n",
    "evecs = eVecs[:,order]\n",
    "print(evecs)"
   ]
  },
  {
   "cell_type": "code",
   "execution_count": 36,
   "metadata": {},
   "outputs": [
    {
     "data": {
      "text/plain": [
       "array([16.        ,  5.33333333, 40.        , 25.33333333,  0.        ,\n",
       "       13.33333333])"
      ]
     },
     "execution_count": 36,
     "metadata": {},
     "output_type": "execute_result"
    }
   ],
   "source": [
    "r = evecs[:,0]\n",
    "100 * np.real(r/np.sum(r))"
   ]
  },
  {
   "cell_type": "markdown",
   "metadata": {},
   "source": [
    "Now You can see the ranks of the web sites as C,D,A,F,B,E"
   ]
  },
  {
   "cell_type": "code",
   "execution_count": 85,
   "metadata": {},
   "outputs": [
    {
     "data": {
      "text/plain": [
       "array([16.66666667, 16.66666667, 16.66666667, 16.66666667, 16.66666667,\n",
       "       16.66666667])"
      ]
     },
     "execution_count": 85,
     "metadata": {},
     "output_type": "execute_result"
    }
   ],
   "source": [
    "r = 100 * (np.ones(6) / 6)\n",
    "r"
   ]
  },
  {
   "cell_type": "code",
   "execution_count": 89,
   "metadata": {},
   "outputs": [
    {
     "ename": "ValueError",
     "evalue": "Scalar operands are not allowed, use '*' instead",
     "output_type": "error",
     "traceback": [
      "\u001b[1;31m---------------------------------------------------------------------------\u001b[0m",
      "\u001b[1;31mValueError\u001b[0m                                Traceback (most recent call last)",
      "\u001b[1;32m<ipython-input-89-e16d99fab5ed>\u001b[0m in \u001b[0;36m<module>\u001b[1;34m\u001b[0m\n\u001b[0;32m      1\u001b[0m \u001b[1;31m# Now lets get the next minute matirx L. Run this below matrix multiple times or put it an a loop.\u001b[0m\u001b[1;33m\u001b[0m\u001b[1;33m\u001b[0m\u001b[0m\n\u001b[0;32m      2\u001b[0m \u001b[1;33m\u001b[0m\u001b[0m\n\u001b[1;32m----> 3\u001b[1;33m \u001b[0mr\u001b[0m \u001b[1;33m=\u001b[0m \u001b[0mL\u001b[0m \u001b[1;33m@\u001b[0m \u001b[0mr\u001b[0m\u001b[1;33m\u001b[0m\u001b[0m\n\u001b[0m",
      "\u001b[1;31mValueError\u001b[0m: Scalar operands are not allowed, use '*' instead"
     ]
    }
   ],
   "source": [
    "# Now lets get the next minute matirx L. Run this below matrix multiple times or put it an a loop.\n",
    "\n",
    "r = L @ r"
   ]
  }
 ],
 "metadata": {
  "kernelspec": {
   "display_name": "Python 3",
   "language": "python",
   "name": "python3"
  },
  "language_info": {
   "codemirror_mode": {
    "name": "ipython",
    "version": 3
   },
   "file_extension": ".py",
   "mimetype": "text/x-python",
   "name": "python",
   "nbconvert_exporter": "python",
   "pygments_lexer": "ipython3",
   "version": "3.6.6"
  },
  "toc": {
   "base_numbering": 1,
   "nav_menu": {},
   "number_sections": true,
   "sideBar": true,
   "skip_h1_title": false,
   "title_cell": "Table of Contents",
   "title_sidebar": "Contents",
   "toc_cell": false,
   "toc_position": {},
   "toc_section_display": true,
   "toc_window_display": false
  }
 },
 "nbformat": 4,
 "nbformat_minor": 2
}
